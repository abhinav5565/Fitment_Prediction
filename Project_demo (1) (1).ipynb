{
  "cells": [
    {
      "cell_type": "code",
      "execution_count": 3,
      "metadata": {
        "id": "yCGyH8JayJoK"
      },
      "outputs": [],
      "source": [
        "#Importing libraries\n",
        "import numpy as np\n",
        "import matplotlib.pyplot as plt\n",
        "import pandas as pd\n",
        "import seaborn as sb#Importing libraries\n",
        "import numpy as np\n",
        "import matplotlib.pyplot as plt\n",
        "import pandas as pd\n",
        "import seaborn as sb"
      ]
    },
    {
      "cell_type": "code",
      "execution_count": 4,
      "metadata": {
        "id": "8KNMVN-Gz94c"
      },
      "outputs": [],
      "source": [
        "data=pd.read_csv('Train.csv')"
      ]
    },
    {
      "cell_type": "code",
      "execution_count": 5,
      "metadata": {
        "colab": {
          "base_uri": "https://localhost:8080/",
          "height": 369
        },
        "id": "43ScLnWu0FPw",
        "outputId": "b0b3e0f9-09e9-4f08-ddf0-54848bffd556"
      },
      "outputs": [
        {
          "data": {
            "text/html": [
              "<div>\n",
              "<style scoped>\n",
              "    .dataframe tbody tr th:only-of-type {\n",
              "        vertical-align: middle;\n",
              "    }\n",
              "\n",
              "    .dataframe tbody tr th {\n",
              "        vertical-align: top;\n",
              "    }\n",
              "\n",
              "    .dataframe thead th {\n",
              "        text-align: right;\n",
              "    }\n",
              "</style>\n",
              "<table border=\"1\" class=\"dataframe\">\n",
              "  <thead>\n",
              "    <tr style=\"text-align: right;\">\n",
              "      <th></th>\n",
              "      <th>EmpID</th>\n",
              "      <th>EmpName</th>\n",
              "      <th>LanguageOfCommunication</th>\n",
              "      <th>Age</th>\n",
              "      <th>Gender</th>\n",
              "      <th>JobProfileIDApplyingFor</th>\n",
              "      <th>HighestDegree</th>\n",
              "      <th>DegreeBranch</th>\n",
              "      <th>GraduatingInstitute</th>\n",
              "      <th>LatestDegreeCGPA</th>\n",
              "      <th>...</th>\n",
              "      <th>CurrentCTC</th>\n",
              "      <th>ExpectedCTC</th>\n",
              "      <th>MartialStatus</th>\n",
              "      <th>EmpScore</th>\n",
              "      <th>CurrentDesignation</th>\n",
              "      <th>CurrentCompanyType</th>\n",
              "      <th>DepartmentInCompany</th>\n",
              "      <th>TotalLeavesTaken</th>\n",
              "      <th>BiasInfluentialFactor</th>\n",
              "      <th>FitmentPercent</th>\n",
              "    </tr>\n",
              "  </thead>\n",
              "  <tbody>\n",
              "    <tr>\n",
              "      <td>0</td>\n",
              "      <td>11041</td>\n",
              "      <td>John</td>\n",
              "      <td>English</td>\n",
              "      <td>35</td>\n",
              "      <td>Male</td>\n",
              "      <td>JR85289</td>\n",
              "      <td>B.Tech</td>\n",
              "      <td>Electrical</td>\n",
              "      <td>Tier 1</td>\n",
              "      <td>7</td>\n",
              "      <td>...</td>\n",
              "      <td>21</td>\n",
              "      <td>26</td>\n",
              "      <td>Married</td>\n",
              "      <td>5</td>\n",
              "      <td>SSE</td>\n",
              "      <td>Enterprise</td>\n",
              "      <td>Design</td>\n",
              "      <td>20</td>\n",
              "      <td>YearsOfExperince</td>\n",
              "      <td>95.40</td>\n",
              "    </tr>\n",
              "    <tr>\n",
              "      <td>1</td>\n",
              "      <td>15079</td>\n",
              "      <td>William</td>\n",
              "      <td>English</td>\n",
              "      <td>26</td>\n",
              "      <td>Male</td>\n",
              "      <td>JR87525</td>\n",
              "      <td>B.Tech</td>\n",
              "      <td>Artificial Intelligence</td>\n",
              "      <td>Tier 3</td>\n",
              "      <td>7</td>\n",
              "      <td>...</td>\n",
              "      <td>15</td>\n",
              "      <td>19</td>\n",
              "      <td>Married</td>\n",
              "      <td>5</td>\n",
              "      <td>BA</td>\n",
              "      <td>MidSized</td>\n",
              "      <td>Engineering</td>\n",
              "      <td>6</td>\n",
              "      <td>NaN</td>\n",
              "      <td>67.09</td>\n",
              "    </tr>\n",
              "    <tr>\n",
              "      <td>2</td>\n",
              "      <td>18638</td>\n",
              "      <td>James</td>\n",
              "      <td>English</td>\n",
              "      <td>36</td>\n",
              "      <td>Female</td>\n",
              "      <td>JR87525</td>\n",
              "      <td>PhD</td>\n",
              "      <td>Computer Science</td>\n",
              "      <td>Tier 1</td>\n",
              "      <td>6</td>\n",
              "      <td>...</td>\n",
              "      <td>15</td>\n",
              "      <td>24</td>\n",
              "      <td>Single</td>\n",
              "      <td>5</td>\n",
              "      <td>SDE</td>\n",
              "      <td>MidSized</td>\n",
              "      <td>Engineering</td>\n",
              "      <td>19</td>\n",
              "      <td>Gender</td>\n",
              "      <td>91.26</td>\n",
              "    </tr>\n",
              "    <tr>\n",
              "      <td>3</td>\n",
              "      <td>3941</td>\n",
              "      <td>Charles</td>\n",
              "      <td>English</td>\n",
              "      <td>29</td>\n",
              "      <td>Female</td>\n",
              "      <td>JR87525</td>\n",
              "      <td>BCA</td>\n",
              "      <td>Information Technology</td>\n",
              "      <td>Tier 2</td>\n",
              "      <td>5</td>\n",
              "      <td>...</td>\n",
              "      <td>16</td>\n",
              "      <td>24</td>\n",
              "      <td>Married</td>\n",
              "      <td>5</td>\n",
              "      <td>SDE</td>\n",
              "      <td>Startup</td>\n",
              "      <td>Product</td>\n",
              "      <td>16</td>\n",
              "      <td>Gender</td>\n",
              "      <td>72.29</td>\n",
              "    </tr>\n",
              "    <tr>\n",
              "      <td>4</td>\n",
              "      <td>5936</td>\n",
              "      <td>George</td>\n",
              "      <td>English</td>\n",
              "      <td>25</td>\n",
              "      <td>Male</td>\n",
              "      <td>JR70175</td>\n",
              "      <td>Dual M.Tech</td>\n",
              "      <td>Computer Science</td>\n",
              "      <td>Tier 3</td>\n",
              "      <td>8</td>\n",
              "      <td>...</td>\n",
              "      <td>24</td>\n",
              "      <td>32</td>\n",
              "      <td>Married</td>\n",
              "      <td>5</td>\n",
              "      <td>SDE</td>\n",
              "      <td>Enterprise</td>\n",
              "      <td>Engineering</td>\n",
              "      <td>10</td>\n",
              "      <td>DegreeBranch</td>\n",
              "      <td>86.34</td>\n",
              "    </tr>\n",
              "  </tbody>\n",
              "</table>\n",
              "<p>5 rows × 22 columns</p>\n",
              "</div>"
            ],
            "text/plain": [
              "   EmpID  EmpName LanguageOfCommunication  Age  Gender  \\\n",
              "0  11041     John                 English   35    Male   \n",
              "1  15079  William                 English   26    Male   \n",
              "2  18638    James                 English   36  Female   \n",
              "3   3941  Charles                 English   29  Female   \n",
              "4   5936   George                 English   25    Male   \n",
              "\n",
              "  JobProfileIDApplyingFor HighestDegree             DegreeBranch  \\\n",
              "0                 JR85289        B.Tech               Electrical   \n",
              "1                 JR87525        B.Tech  Artificial Intelligence   \n",
              "2                 JR87525           PhD         Computer Science   \n",
              "3                 JR87525           BCA   Information Technology   \n",
              "4                 JR70175   Dual M.Tech         Computer Science   \n",
              "\n",
              "  GraduatingInstitute  LatestDegreeCGPA  ...  CurrentCTC  ExpectedCTC  \\\n",
              "0              Tier 1                 7  ...          21           26   \n",
              "1              Tier 3                 7  ...          15           19   \n",
              "2              Tier 1                 6  ...          15           24   \n",
              "3              Tier 2                 5  ...          16           24   \n",
              "4              Tier 3                 8  ...          24           32   \n",
              "\n",
              "   MartialStatus  EmpScore CurrentDesignation  CurrentCompanyType  \\\n",
              "0        Married         5                SSE          Enterprise   \n",
              "1        Married         5                 BA            MidSized   \n",
              "2         Single         5                SDE            MidSized   \n",
              "3        Married         5                SDE             Startup   \n",
              "4        Married         5                SDE          Enterprise   \n",
              "\n",
              "  DepartmentInCompany TotalLeavesTaken BiasInfluentialFactor  FitmentPercent  \n",
              "0              Design               20      YearsOfExperince           95.40  \n",
              "1         Engineering                6                   NaN           67.09  \n",
              "2         Engineering               19                Gender           91.26  \n",
              "3             Product               16                Gender           72.29  \n",
              "4         Engineering               10          DegreeBranch           86.34  \n",
              "\n",
              "[5 rows x 22 columns]"
            ]
          },
          "execution_count": 5,
          "metadata": {},
          "output_type": "execute_result"
        }
      ],
      "source": [
        "data.head()"
      ]
    },
    {
      "cell_type": "code",
      "execution_count": 6,
      "metadata": {
        "colab": {
          "base_uri": "https://localhost:8080/"
        },
        "id": "nD7cQcUmvduA",
        "outputId": "342a2171-da2d-4492-c98c-7ebcb7c2704c"
      },
      "outputs": [
        {
          "data": {
            "text/plain": [
              "DegreeBranch          2858\n",
              "Gender                2605\n",
              "YearsOfExperince      1561\n",
              "CurrentCompanyType    1174\n",
              "EmpScore               659\n",
              "HighestDegree          582\n",
              "Ethinicity             328\n",
              "MartialStatus          280\n",
              "LatestDegreeCGPA       262\n",
              "Name: BiasInfluentialFactor, dtype: int64"
            ]
          },
          "execution_count": 6,
          "metadata": {},
          "output_type": "execute_result"
        }
      ],
      "source": [
        "data['BiasInfluentialFactor'].value_counts()"
      ]
    },
    {
      "cell_type": "code",
      "execution_count": 7,
      "metadata": {
        "id": "FG6n6YxH0Hkc"
      },
      "outputs": [],
      "source": [
        "data=data.drop(['EmpID','EmpName','JobProfileIDApplyingFor','GraduationYear'],axis=1)"
      ]
    },
    {
      "cell_type": "code",
      "execution_count": 8,
      "metadata": {
        "colab": {
          "base_uri": "https://localhost:8080/"
        },
        "id": "rFthVJ9-1F3M",
        "outputId": "bcbaf027-2102-4dd0-c3c1-f4d7091fa43e"
      },
      "outputs": [
        {
          "data": {
            "text/plain": [
              "LanguageOfCommunication       0\n",
              "Age                           0\n",
              "Gender                        0\n",
              "HighestDegree                 0\n",
              "DegreeBranch                  0\n",
              "GraduatingInstitute           0\n",
              "LatestDegreeCGPA              0\n",
              "YearsOfExperince              0\n",
              "CurrentCTC                    0\n",
              "ExpectedCTC                   0\n",
              "MartialStatus                 0\n",
              "EmpScore                      0\n",
              "CurrentDesignation            0\n",
              "CurrentCompanyType            0\n",
              "DepartmentInCompany           0\n",
              "TotalLeavesTaken              0\n",
              "BiasInfluentialFactor      3336\n",
              "FitmentPercent                0\n",
              "dtype: int64"
            ]
          },
          "execution_count": 8,
          "metadata": {},
          "output_type": "execute_result"
        }
      ],
      "source": [
        "data.isnull().sum()"
      ]
    },
    {
      "cell_type": "code",
      "execution_count": 9,
      "metadata": {
        "id": "Y13bNxIC3D22"
      },
      "outputs": [],
      "source": [
        "data=data.replace(np.nan, 'No_Bias')"
      ]
    },
    {
      "cell_type": "code",
      "execution_count": 10,
      "metadata": {
        "colab": {
          "base_uri": "https://localhost:8080/"
        },
        "id": "hdxVtlcx4rwU",
        "outputId": "67e23381-0a67-46dc-f363-96e4e9ecb426"
      },
      "outputs": [
        {
          "data": {
            "text/plain": [
              "No_Bias               3336\n",
              "DegreeBranch          2858\n",
              "Gender                2605\n",
              "YearsOfExperince      1561\n",
              "CurrentCompanyType    1174\n",
              "EmpScore               659\n",
              "HighestDegree          582\n",
              "Ethinicity             328\n",
              "MartialStatus          280\n",
              "LatestDegreeCGPA       262\n",
              "Name: BiasInfluentialFactor, dtype: int64"
            ]
          },
          "execution_count": 10,
          "metadata": {},
          "output_type": "execute_result"
        }
      ],
      "source": [
        "data['BiasInfluentialFactor'].value_counts()"
      ]
    },
    {
      "cell_type": "code",
      "execution_count": 11,
      "metadata": {
        "colab": {
          "base_uri": "https://localhost:8080/"
        },
        "id": "9XVtVHxV40R7",
        "outputId": "02314c81-25b5-4d62-9098-ea099a2f4da5"
      },
      "outputs": [
        {
          "data": {
            "text/plain": [
              "LanguageOfCommunication    0\n",
              "Age                        0\n",
              "Gender                     0\n",
              "HighestDegree              0\n",
              "DegreeBranch               0\n",
              "GraduatingInstitute        0\n",
              "LatestDegreeCGPA           0\n",
              "YearsOfExperince           0\n",
              "CurrentCTC                 0\n",
              "ExpectedCTC                0\n",
              "MartialStatus              0\n",
              "EmpScore                   0\n",
              "CurrentDesignation         0\n",
              "CurrentCompanyType         0\n",
              "DepartmentInCompany        0\n",
              "TotalLeavesTaken           0\n",
              "BiasInfluentialFactor      0\n",
              "FitmentPercent             0\n",
              "dtype: int64"
            ]
          },
          "execution_count": 11,
          "metadata": {},
          "output_type": "execute_result"
        }
      ],
      "source": [
        "data.isnull().sum()"
      ]
    },
    {
      "cell_type": "code",
      "execution_count": 12,
      "metadata": {
        "id": "ZzY8OhAW3LQX"
      },
      "outputs": [],
      "source": [
        "data = pd.get_dummies(data, columns = ['BiasInfluentialFactor'])"
      ]
    },
    {
      "cell_type": "code",
      "execution_count": 13,
      "metadata": {
        "colab": {
          "base_uri": "https://localhost:8080/",
          "height": 369
        },
        "id": "Fyi14VH_3jW8",
        "outputId": "47365e5a-2c21-4328-d6fb-6517e77e0537"
      },
      "outputs": [
        {
          "data": {
            "text/html": [
              "<div>\n",
              "<style scoped>\n",
              "    .dataframe tbody tr th:only-of-type {\n",
              "        vertical-align: middle;\n",
              "    }\n",
              "\n",
              "    .dataframe tbody tr th {\n",
              "        vertical-align: top;\n",
              "    }\n",
              "\n",
              "    .dataframe thead th {\n",
              "        text-align: right;\n",
              "    }\n",
              "</style>\n",
              "<table border=\"1\" class=\"dataframe\">\n",
              "  <thead>\n",
              "    <tr style=\"text-align: right;\">\n",
              "      <th></th>\n",
              "      <th>LanguageOfCommunication</th>\n",
              "      <th>Age</th>\n",
              "      <th>Gender</th>\n",
              "      <th>HighestDegree</th>\n",
              "      <th>DegreeBranch</th>\n",
              "      <th>GraduatingInstitute</th>\n",
              "      <th>LatestDegreeCGPA</th>\n",
              "      <th>YearsOfExperince</th>\n",
              "      <th>CurrentCTC</th>\n",
              "      <th>ExpectedCTC</th>\n",
              "      <th>...</th>\n",
              "      <th>BiasInfluentialFactor_CurrentCompanyType</th>\n",
              "      <th>BiasInfluentialFactor_DegreeBranch</th>\n",
              "      <th>BiasInfluentialFactor_EmpScore</th>\n",
              "      <th>BiasInfluentialFactor_Ethinicity</th>\n",
              "      <th>BiasInfluentialFactor_Gender</th>\n",
              "      <th>BiasInfluentialFactor_HighestDegree</th>\n",
              "      <th>BiasInfluentialFactor_LatestDegreeCGPA</th>\n",
              "      <th>BiasInfluentialFactor_MartialStatus</th>\n",
              "      <th>BiasInfluentialFactor_No_Bias</th>\n",
              "      <th>BiasInfluentialFactor_YearsOfExperince</th>\n",
              "    </tr>\n",
              "  </thead>\n",
              "  <tbody>\n",
              "    <tr>\n",
              "      <td>0</td>\n",
              "      <td>English</td>\n",
              "      <td>35</td>\n",
              "      <td>Male</td>\n",
              "      <td>B.Tech</td>\n",
              "      <td>Electrical</td>\n",
              "      <td>Tier 1</td>\n",
              "      <td>7</td>\n",
              "      <td>12</td>\n",
              "      <td>21</td>\n",
              "      <td>26</td>\n",
              "      <td>...</td>\n",
              "      <td>0</td>\n",
              "      <td>0</td>\n",
              "      <td>0</td>\n",
              "      <td>0</td>\n",
              "      <td>0</td>\n",
              "      <td>0</td>\n",
              "      <td>0</td>\n",
              "      <td>0</td>\n",
              "      <td>0</td>\n",
              "      <td>1</td>\n",
              "    </tr>\n",
              "    <tr>\n",
              "      <td>1</td>\n",
              "      <td>English</td>\n",
              "      <td>26</td>\n",
              "      <td>Male</td>\n",
              "      <td>B.Tech</td>\n",
              "      <td>Artificial Intelligence</td>\n",
              "      <td>Tier 3</td>\n",
              "      <td>7</td>\n",
              "      <td>3</td>\n",
              "      <td>15</td>\n",
              "      <td>19</td>\n",
              "      <td>...</td>\n",
              "      <td>0</td>\n",
              "      <td>0</td>\n",
              "      <td>0</td>\n",
              "      <td>0</td>\n",
              "      <td>0</td>\n",
              "      <td>0</td>\n",
              "      <td>0</td>\n",
              "      <td>0</td>\n",
              "      <td>1</td>\n",
              "      <td>0</td>\n",
              "    </tr>\n",
              "    <tr>\n",
              "      <td>2</td>\n",
              "      <td>English</td>\n",
              "      <td>36</td>\n",
              "      <td>Female</td>\n",
              "      <td>PhD</td>\n",
              "      <td>Computer Science</td>\n",
              "      <td>Tier 1</td>\n",
              "      <td>6</td>\n",
              "      <td>6</td>\n",
              "      <td>15</td>\n",
              "      <td>24</td>\n",
              "      <td>...</td>\n",
              "      <td>0</td>\n",
              "      <td>0</td>\n",
              "      <td>0</td>\n",
              "      <td>0</td>\n",
              "      <td>1</td>\n",
              "      <td>0</td>\n",
              "      <td>0</td>\n",
              "      <td>0</td>\n",
              "      <td>0</td>\n",
              "      <td>0</td>\n",
              "    </tr>\n",
              "    <tr>\n",
              "      <td>3</td>\n",
              "      <td>English</td>\n",
              "      <td>29</td>\n",
              "      <td>Female</td>\n",
              "      <td>BCA</td>\n",
              "      <td>Information Technology</td>\n",
              "      <td>Tier 2</td>\n",
              "      <td>5</td>\n",
              "      <td>6</td>\n",
              "      <td>16</td>\n",
              "      <td>24</td>\n",
              "      <td>...</td>\n",
              "      <td>0</td>\n",
              "      <td>0</td>\n",
              "      <td>0</td>\n",
              "      <td>0</td>\n",
              "      <td>1</td>\n",
              "      <td>0</td>\n",
              "      <td>0</td>\n",
              "      <td>0</td>\n",
              "      <td>0</td>\n",
              "      <td>0</td>\n",
              "    </tr>\n",
              "    <tr>\n",
              "      <td>4</td>\n",
              "      <td>English</td>\n",
              "      <td>25</td>\n",
              "      <td>Male</td>\n",
              "      <td>Dual M.Tech</td>\n",
              "      <td>Computer Science</td>\n",
              "      <td>Tier 3</td>\n",
              "      <td>8</td>\n",
              "      <td>2</td>\n",
              "      <td>24</td>\n",
              "      <td>32</td>\n",
              "      <td>...</td>\n",
              "      <td>0</td>\n",
              "      <td>1</td>\n",
              "      <td>0</td>\n",
              "      <td>0</td>\n",
              "      <td>0</td>\n",
              "      <td>0</td>\n",
              "      <td>0</td>\n",
              "      <td>0</td>\n",
              "      <td>0</td>\n",
              "      <td>0</td>\n",
              "    </tr>\n",
              "  </tbody>\n",
              "</table>\n",
              "<p>5 rows × 27 columns</p>\n",
              "</div>"
            ],
            "text/plain": [
              "  LanguageOfCommunication  Age  Gender HighestDegree             DegreeBranch  \\\n",
              "0                 English   35    Male        B.Tech               Electrical   \n",
              "1                 English   26    Male        B.Tech  Artificial Intelligence   \n",
              "2                 English   36  Female           PhD         Computer Science   \n",
              "3                 English   29  Female           BCA   Information Technology   \n",
              "4                 English   25    Male   Dual M.Tech         Computer Science   \n",
              "\n",
              "  GraduatingInstitute  LatestDegreeCGPA  YearsOfExperince  CurrentCTC  \\\n",
              "0              Tier 1                 7                12          21   \n",
              "1              Tier 3                 7                 3          15   \n",
              "2              Tier 1                 6                 6          15   \n",
              "3              Tier 2                 5                 6          16   \n",
              "4              Tier 3                 8                 2          24   \n",
              "\n",
              "   ExpectedCTC  ... BiasInfluentialFactor_CurrentCompanyType  \\\n",
              "0           26  ...                                        0   \n",
              "1           19  ...                                        0   \n",
              "2           24  ...                                        0   \n",
              "3           24  ...                                        0   \n",
              "4           32  ...                                        0   \n",
              "\n",
              "   BiasInfluentialFactor_DegreeBranch BiasInfluentialFactor_EmpScore  \\\n",
              "0                                   0                              0   \n",
              "1                                   0                              0   \n",
              "2                                   0                              0   \n",
              "3                                   0                              0   \n",
              "4                                   1                              0   \n",
              "\n",
              "  BiasInfluentialFactor_Ethinicity BiasInfluentialFactor_Gender  \\\n",
              "0                                0                            0   \n",
              "1                                0                            0   \n",
              "2                                0                            1   \n",
              "3                                0                            1   \n",
              "4                                0                            0   \n",
              "\n",
              "   BiasInfluentialFactor_HighestDegree  \\\n",
              "0                                    0   \n",
              "1                                    0   \n",
              "2                                    0   \n",
              "3                                    0   \n",
              "4                                    0   \n",
              "\n",
              "   BiasInfluentialFactor_LatestDegreeCGPA  \\\n",
              "0                                       0   \n",
              "1                                       0   \n",
              "2                                       0   \n",
              "3                                       0   \n",
              "4                                       0   \n",
              "\n",
              "   BiasInfluentialFactor_MartialStatus  BiasInfluentialFactor_No_Bias  \\\n",
              "0                                    0                              0   \n",
              "1                                    0                              1   \n",
              "2                                    0                              0   \n",
              "3                                    0                              0   \n",
              "4                                    0                              0   \n",
              "\n",
              "   BiasInfluentialFactor_YearsOfExperince  \n",
              "0                                       1  \n",
              "1                                       0  \n",
              "2                                       0  \n",
              "3                                       0  \n",
              "4                                       0  \n",
              "\n",
              "[5 rows x 27 columns]"
            ]
          },
          "execution_count": 13,
          "metadata": {},
          "output_type": "execute_result"
        }
      ],
      "source": [
        "data.head()"
      ]
    },
    {
      "cell_type": "code",
      "execution_count": 14,
      "metadata": {
        "colab": {
          "base_uri": "https://localhost:8080/"
        },
        "id": "wgMx9cMa30nd",
        "outputId": "8550dfa8-b933-4aa3-f91d-ec460a4af55d"
      },
      "outputs": [
        {
          "data": {
            "text/plain": [
              "LanguageOfCommunication                     0\n",
              "Age                                         0\n",
              "Gender                                      0\n",
              "HighestDegree                               0\n",
              "DegreeBranch                                0\n",
              "GraduatingInstitute                         0\n",
              "LatestDegreeCGPA                            0\n",
              "YearsOfExperince                            0\n",
              "CurrentCTC                                  0\n",
              "ExpectedCTC                                 0\n",
              "MartialStatus                               0\n",
              "EmpScore                                    0\n",
              "CurrentDesignation                          0\n",
              "CurrentCompanyType                          0\n",
              "DepartmentInCompany                         0\n",
              "TotalLeavesTaken                            0\n",
              "FitmentPercent                              0\n",
              "BiasInfluentialFactor_CurrentCompanyType    0\n",
              "BiasInfluentialFactor_DegreeBranch          0\n",
              "BiasInfluentialFactor_EmpScore              0\n",
              "BiasInfluentialFactor_Ethinicity            0\n",
              "BiasInfluentialFactor_Gender                0\n",
              "BiasInfluentialFactor_HighestDegree         0\n",
              "BiasInfluentialFactor_LatestDegreeCGPA      0\n",
              "BiasInfluentialFactor_MartialStatus         0\n",
              "BiasInfluentialFactor_No_Bias               0\n",
              "BiasInfluentialFactor_YearsOfExperince      0\n",
              "dtype: int64"
            ]
          },
          "execution_count": 14,
          "metadata": {},
          "output_type": "execute_result"
        }
      ],
      "source": [
        "data.isnull().sum()"
      ]
    },
    {
      "cell_type": "code",
      "execution_count": 15,
      "metadata": {
        "colab": {
          "base_uri": "https://localhost:8080/"
        },
        "id": "QKJqeORl2nN1",
        "outputId": "3667c5ab-7c78-4224-e9c2-7bacdc29ccfa"
      },
      "outputs": [
        {
          "data": {
            "text/plain": [
              "B.Tech         5619\n",
              "M.Tech         2026\n",
              "BCA            1634\n",
              "MS             1579\n",
              "Dual M.Tech    1358\n",
              "Dual MBA        665\n",
              "PhD             624\n",
              "MCA             140\n",
              "Name: HighestDegree, dtype: int64"
            ]
          },
          "execution_count": 15,
          "metadata": {},
          "output_type": "execute_result"
        }
      ],
      "source": [
        "data['HighestDegree'].value_counts()"
      ]
    },
    {
      "cell_type": "code",
      "execution_count": 16,
      "metadata": {
        "colab": {
          "base_uri": "https://localhost:8080/",
          "height": 369
        },
        "id": "QU16az9_3sos",
        "outputId": "24cb631b-d8f5-48d6-89ec-0c31a6ed6eb8"
      },
      "outputs": [
        {
          "data": {
            "text/html": [
              "<div>\n",
              "<style scoped>\n",
              "    .dataframe tbody tr th:only-of-type {\n",
              "        vertical-align: middle;\n",
              "    }\n",
              "\n",
              "    .dataframe tbody tr th {\n",
              "        vertical-align: top;\n",
              "    }\n",
              "\n",
              "    .dataframe thead th {\n",
              "        text-align: right;\n",
              "    }\n",
              "</style>\n",
              "<table border=\"1\" class=\"dataframe\">\n",
              "  <thead>\n",
              "    <tr style=\"text-align: right;\">\n",
              "      <th></th>\n",
              "      <th>LanguageOfCommunication</th>\n",
              "      <th>Age</th>\n",
              "      <th>Gender</th>\n",
              "      <th>HighestDegree</th>\n",
              "      <th>DegreeBranch</th>\n",
              "      <th>GraduatingInstitute</th>\n",
              "      <th>LatestDegreeCGPA</th>\n",
              "      <th>YearsOfExperince</th>\n",
              "      <th>CurrentCTC</th>\n",
              "      <th>ExpectedCTC</th>\n",
              "      <th>...</th>\n",
              "      <th>BiasInfluentialFactor_CurrentCompanyType</th>\n",
              "      <th>BiasInfluentialFactor_DegreeBranch</th>\n",
              "      <th>BiasInfluentialFactor_EmpScore</th>\n",
              "      <th>BiasInfluentialFactor_Ethinicity</th>\n",
              "      <th>BiasInfluentialFactor_Gender</th>\n",
              "      <th>BiasInfluentialFactor_HighestDegree</th>\n",
              "      <th>BiasInfluentialFactor_LatestDegreeCGPA</th>\n",
              "      <th>BiasInfluentialFactor_MartialStatus</th>\n",
              "      <th>BiasInfluentialFactor_No_Bias</th>\n",
              "      <th>BiasInfluentialFactor_YearsOfExperince</th>\n",
              "    </tr>\n",
              "  </thead>\n",
              "  <tbody>\n",
              "    <tr>\n",
              "      <td>0</td>\n",
              "      <td>English</td>\n",
              "      <td>35</td>\n",
              "      <td>Male</td>\n",
              "      <td>B.Tech</td>\n",
              "      <td>Electrical</td>\n",
              "      <td>Tier 1</td>\n",
              "      <td>7</td>\n",
              "      <td>12</td>\n",
              "      <td>21</td>\n",
              "      <td>26</td>\n",
              "      <td>...</td>\n",
              "      <td>0</td>\n",
              "      <td>0</td>\n",
              "      <td>0</td>\n",
              "      <td>0</td>\n",
              "      <td>0</td>\n",
              "      <td>0</td>\n",
              "      <td>0</td>\n",
              "      <td>0</td>\n",
              "      <td>0</td>\n",
              "      <td>1</td>\n",
              "    </tr>\n",
              "    <tr>\n",
              "      <td>1</td>\n",
              "      <td>English</td>\n",
              "      <td>26</td>\n",
              "      <td>Male</td>\n",
              "      <td>B.Tech</td>\n",
              "      <td>Artificial Intelligence</td>\n",
              "      <td>Tier 3</td>\n",
              "      <td>7</td>\n",
              "      <td>3</td>\n",
              "      <td>15</td>\n",
              "      <td>19</td>\n",
              "      <td>...</td>\n",
              "      <td>0</td>\n",
              "      <td>0</td>\n",
              "      <td>0</td>\n",
              "      <td>0</td>\n",
              "      <td>0</td>\n",
              "      <td>0</td>\n",
              "      <td>0</td>\n",
              "      <td>0</td>\n",
              "      <td>1</td>\n",
              "      <td>0</td>\n",
              "    </tr>\n",
              "    <tr>\n",
              "      <td>2</td>\n",
              "      <td>English</td>\n",
              "      <td>36</td>\n",
              "      <td>Female</td>\n",
              "      <td>PhD</td>\n",
              "      <td>Computer Science</td>\n",
              "      <td>Tier 1</td>\n",
              "      <td>6</td>\n",
              "      <td>6</td>\n",
              "      <td>15</td>\n",
              "      <td>24</td>\n",
              "      <td>...</td>\n",
              "      <td>0</td>\n",
              "      <td>0</td>\n",
              "      <td>0</td>\n",
              "      <td>0</td>\n",
              "      <td>1</td>\n",
              "      <td>0</td>\n",
              "      <td>0</td>\n",
              "      <td>0</td>\n",
              "      <td>0</td>\n",
              "      <td>0</td>\n",
              "    </tr>\n",
              "    <tr>\n",
              "      <td>3</td>\n",
              "      <td>English</td>\n",
              "      <td>29</td>\n",
              "      <td>Female</td>\n",
              "      <td>BCA</td>\n",
              "      <td>Information Technology</td>\n",
              "      <td>Tier 2</td>\n",
              "      <td>5</td>\n",
              "      <td>6</td>\n",
              "      <td>16</td>\n",
              "      <td>24</td>\n",
              "      <td>...</td>\n",
              "      <td>0</td>\n",
              "      <td>0</td>\n",
              "      <td>0</td>\n",
              "      <td>0</td>\n",
              "      <td>1</td>\n",
              "      <td>0</td>\n",
              "      <td>0</td>\n",
              "      <td>0</td>\n",
              "      <td>0</td>\n",
              "      <td>0</td>\n",
              "    </tr>\n",
              "    <tr>\n",
              "      <td>4</td>\n",
              "      <td>English</td>\n",
              "      <td>25</td>\n",
              "      <td>Male</td>\n",
              "      <td>Dual M.Tech</td>\n",
              "      <td>Computer Science</td>\n",
              "      <td>Tier 3</td>\n",
              "      <td>8</td>\n",
              "      <td>2</td>\n",
              "      <td>24</td>\n",
              "      <td>32</td>\n",
              "      <td>...</td>\n",
              "      <td>0</td>\n",
              "      <td>1</td>\n",
              "      <td>0</td>\n",
              "      <td>0</td>\n",
              "      <td>0</td>\n",
              "      <td>0</td>\n",
              "      <td>0</td>\n",
              "      <td>0</td>\n",
              "      <td>0</td>\n",
              "      <td>0</td>\n",
              "    </tr>\n",
              "  </tbody>\n",
              "</table>\n",
              "<p>5 rows × 27 columns</p>\n",
              "</div>"
            ],
            "text/plain": [
              "  LanguageOfCommunication  Age  Gender HighestDegree             DegreeBranch  \\\n",
              "0                 English   35    Male        B.Tech               Electrical   \n",
              "1                 English   26    Male        B.Tech  Artificial Intelligence   \n",
              "2                 English   36  Female           PhD         Computer Science   \n",
              "3                 English   29  Female           BCA   Information Technology   \n",
              "4                 English   25    Male   Dual M.Tech         Computer Science   \n",
              "\n",
              "  GraduatingInstitute  LatestDegreeCGPA  YearsOfExperince  CurrentCTC  \\\n",
              "0              Tier 1                 7                12          21   \n",
              "1              Tier 3                 7                 3          15   \n",
              "2              Tier 1                 6                 6          15   \n",
              "3              Tier 2                 5                 6          16   \n",
              "4              Tier 3                 8                 2          24   \n",
              "\n",
              "   ExpectedCTC  ... BiasInfluentialFactor_CurrentCompanyType  \\\n",
              "0           26  ...                                        0   \n",
              "1           19  ...                                        0   \n",
              "2           24  ...                                        0   \n",
              "3           24  ...                                        0   \n",
              "4           32  ...                                        0   \n",
              "\n",
              "   BiasInfluentialFactor_DegreeBranch BiasInfluentialFactor_EmpScore  \\\n",
              "0                                   0                              0   \n",
              "1                                   0                              0   \n",
              "2                                   0                              0   \n",
              "3                                   0                              0   \n",
              "4                                   1                              0   \n",
              "\n",
              "  BiasInfluentialFactor_Ethinicity BiasInfluentialFactor_Gender  \\\n",
              "0                                0                            0   \n",
              "1                                0                            0   \n",
              "2                                0                            1   \n",
              "3                                0                            1   \n",
              "4                                0                            0   \n",
              "\n",
              "   BiasInfluentialFactor_HighestDegree  \\\n",
              "0                                    0   \n",
              "1                                    0   \n",
              "2                                    0   \n",
              "3                                    0   \n",
              "4                                    0   \n",
              "\n",
              "   BiasInfluentialFactor_LatestDegreeCGPA  \\\n",
              "0                                       0   \n",
              "1                                       0   \n",
              "2                                       0   \n",
              "3                                       0   \n",
              "4                                       0   \n",
              "\n",
              "   BiasInfluentialFactor_MartialStatus  BiasInfluentialFactor_No_Bias  \\\n",
              "0                                    0                              0   \n",
              "1                                    0                              1   \n",
              "2                                    0                              0   \n",
              "3                                    0                              0   \n",
              "4                                    0                              0   \n",
              "\n",
              "   BiasInfluentialFactor_YearsOfExperince  \n",
              "0                                       1  \n",
              "1                                       0  \n",
              "2                                       0  \n",
              "3                                       0  \n",
              "4                                       0  \n",
              "\n",
              "[5 rows x 27 columns]"
            ]
          },
          "execution_count": 16,
          "metadata": {},
          "output_type": "execute_result"
        }
      ],
      "source": [
        "data.head()"
      ]
    },
    {
      "cell_type": "code",
      "execution_count": 17,
      "metadata": {
        "colab": {
          "base_uri": "https://localhost:8080/"
        },
        "id": "s1WejiBi4IhH",
        "outputId": "81f64f91-ac6d-485e-ea2d-e1e52696e405"
      },
      "outputs": [
        {
          "data": {
            "text/plain": [
              "Computer Science              4749\n",
              "Information Technology        2993\n",
              "Artificial Intelligence       2001\n",
              "Electrical                    1803\n",
              "Electronics                   1699\n",
              "Electrical and Electronics     400\n",
              "Name: DegreeBranch, dtype: int64"
            ]
          },
          "execution_count": 17,
          "metadata": {},
          "output_type": "execute_result"
        }
      ],
      "source": [
        "data['DegreeBranch'].value_counts()"
      ]
    },
    {
      "cell_type": "code",
      "execution_count": 18,
      "metadata": {
        "colab": {
          "base_uri": "https://localhost:8080/"
        },
        "id": "Mfl2Ekmf4OG4",
        "outputId": "8ab3829d-f727-4a56-d514-d79b62970c84"
      },
      "outputs": [
        {
          "data": {
            "text/plain": [
              "Tier 2    6092\n",
              "Tier 1    4793\n",
              "Tier 3    2760\n",
              "Name: GraduatingInstitute, dtype: int64"
            ]
          },
          "execution_count": 18,
          "metadata": {},
          "output_type": "execute_result"
        }
      ],
      "source": [
        "data['GraduatingInstitute'].value_counts()"
      ]
    },
    {
      "cell_type": "code",
      "execution_count": 19,
      "metadata": {
        "colab": {
          "base_uri": "https://localhost:8080/"
        },
        "id": "VDfTlYV34X5q",
        "outputId": "f54eee13-5719-4158-8401-0a0219384826"
      },
      "outputs": [
        {
          "data": {
            "text/plain": [
              "SDE    5423\n",
              "SSE    2745\n",
              "DS     1716\n",
              "BA     1710\n",
              "EM     1342\n",
              "SEM     287\n",
              "DA      287\n",
              "DE      135\n",
              "Name: CurrentDesignation, dtype: int64"
            ]
          },
          "execution_count": 19,
          "metadata": {},
          "output_type": "execute_result"
        }
      ],
      "source": [
        "data['CurrentDesignation'].value_counts()"
      ]
    },
    {
      "cell_type": "code",
      "execution_count": 20,
      "metadata": {
        "colab": {
          "base_uri": "https://localhost:8080/"
        },
        "id": "cP0oTt1Y4sRS",
        "outputId": "0328d911-6460-49d2-bf3d-1fbf8f52fe9e"
      },
      "outputs": [
        {
          "data": {
            "text/plain": [
              "Startup       6373\n",
              "Enterprise    4395\n",
              "MidSized      2877\n",
              "Name: CurrentCompanyType, dtype: int64"
            ]
          },
          "execution_count": 20,
          "metadata": {},
          "output_type": "execute_result"
        }
      ],
      "source": [
        "data['CurrentCompanyType'].value_counts()"
      ]
    },
    {
      "cell_type": "code",
      "execution_count": 21,
      "metadata": {
        "colab": {
          "base_uri": "https://localhost:8080/"
        },
        "id": "byhuJh_J4svm",
        "outputId": "499848e6-1235-45c1-a44d-594d4e4c7eb5"
      },
      "outputs": [
        {
          "data": {
            "text/plain": [
              "Engineering         5749\n",
              "Design              4393\n",
              "Customer Success    1570\n",
              "Product             1232\n",
              "Finance              701\n",
              "Name: DepartmentInCompany, dtype: int64"
            ]
          },
          "execution_count": 21,
          "metadata": {},
          "output_type": "execute_result"
        }
      ],
      "source": [
        "data['DepartmentInCompany'].value_counts()"
      ]
    },
    {
      "cell_type": "code",
      "execution_count": 22,
      "metadata": {
        "colab": {
          "base_uri": "https://localhost:8080/"
        },
        "id": "LJuo5c-y40Mt",
        "outputId": "46081d02-4d1e-46f1-ad25-1b60982583c6"
      },
      "outputs": [
        {
          "data": {
            "text/plain": [
              "array([0, 2, 1], dtype=int64)"
            ]
          },
          "execution_count": 22,
          "metadata": {},
          "output_type": "execute_result"
        }
      ],
      "source": [
        "from sklearn import preprocessing\n",
        "  \n",
        "# label_encoder object knows how to understand word labels.\n",
        "label_encoder = preprocessing.LabelEncoder()\n",
        "  \n",
        "# Encode labels in column 'species'.\n",
        "data['LanguageOfCommunication']= label_encoder.fit_transform(data['LanguageOfCommunication'])\n",
        "  \n",
        "data['LanguageOfCommunication'].unique()"
      ]
    },
    {
      "cell_type": "code",
      "execution_count": 23,
      "metadata": {
        "colab": {
          "base_uri": "https://localhost:8080/",
          "height": 578
        },
        "id": "4kJpzFeI6f7g",
        "outputId": "0fe28e3d-df41-4dbb-d5af-094bdc270516"
      },
      "outputs": [
        {
          "data": {
            "text/html": [
              "<div>\n",
              "<style scoped>\n",
              "    .dataframe tbody tr th:only-of-type {\n",
              "        vertical-align: middle;\n",
              "    }\n",
              "\n",
              "    .dataframe tbody tr th {\n",
              "        vertical-align: top;\n",
              "    }\n",
              "\n",
              "    .dataframe thead th {\n",
              "        text-align: right;\n",
              "    }\n",
              "</style>\n",
              "<table border=\"1\" class=\"dataframe\">\n",
              "  <thead>\n",
              "    <tr style=\"text-align: right;\">\n",
              "      <th></th>\n",
              "      <th>LanguageOfCommunication</th>\n",
              "      <th>Age</th>\n",
              "      <th>Gender</th>\n",
              "      <th>HighestDegree</th>\n",
              "      <th>DegreeBranch</th>\n",
              "      <th>GraduatingInstitute</th>\n",
              "      <th>LatestDegreeCGPA</th>\n",
              "      <th>YearsOfExperince</th>\n",
              "      <th>CurrentCTC</th>\n",
              "      <th>ExpectedCTC</th>\n",
              "      <th>...</th>\n",
              "      <th>BiasInfluentialFactor_CurrentCompanyType</th>\n",
              "      <th>BiasInfluentialFactor_DegreeBranch</th>\n",
              "      <th>BiasInfluentialFactor_EmpScore</th>\n",
              "      <th>BiasInfluentialFactor_Ethinicity</th>\n",
              "      <th>BiasInfluentialFactor_Gender</th>\n",
              "      <th>BiasInfluentialFactor_HighestDegree</th>\n",
              "      <th>BiasInfluentialFactor_LatestDegreeCGPA</th>\n",
              "      <th>BiasInfluentialFactor_MartialStatus</th>\n",
              "      <th>BiasInfluentialFactor_No_Bias</th>\n",
              "      <th>BiasInfluentialFactor_YearsOfExperince</th>\n",
              "    </tr>\n",
              "  </thead>\n",
              "  <tbody>\n",
              "    <tr>\n",
              "      <td>4806</td>\n",
              "      <td>1</td>\n",
              "      <td>25</td>\n",
              "      <td>Other</td>\n",
              "      <td>Dual M.Tech</td>\n",
              "      <td>Electrical</td>\n",
              "      <td>Tier 3</td>\n",
              "      <td>6</td>\n",
              "      <td>2</td>\n",
              "      <td>28</td>\n",
              "      <td>38</td>\n",
              "      <td>...</td>\n",
              "      <td>0</td>\n",
              "      <td>0</td>\n",
              "      <td>0</td>\n",
              "      <td>0</td>\n",
              "      <td>0</td>\n",
              "      <td>0</td>\n",
              "      <td>0</td>\n",
              "      <td>0</td>\n",
              "      <td>1</td>\n",
              "      <td>0</td>\n",
              "    </tr>\n",
              "    <tr>\n",
              "      <td>7312</td>\n",
              "      <td>0</td>\n",
              "      <td>29</td>\n",
              "      <td>Other</td>\n",
              "      <td>B.Tech</td>\n",
              "      <td>Artificial Intelligence</td>\n",
              "      <td>Tier 2</td>\n",
              "      <td>7</td>\n",
              "      <td>6</td>\n",
              "      <td>26</td>\n",
              "      <td>36</td>\n",
              "      <td>...</td>\n",
              "      <td>0</td>\n",
              "      <td>0</td>\n",
              "      <td>0</td>\n",
              "      <td>1</td>\n",
              "      <td>0</td>\n",
              "      <td>0</td>\n",
              "      <td>0</td>\n",
              "      <td>0</td>\n",
              "      <td>0</td>\n",
              "      <td>0</td>\n",
              "    </tr>\n",
              "    <tr>\n",
              "      <td>2590</td>\n",
              "      <td>2</td>\n",
              "      <td>32</td>\n",
              "      <td>Male</td>\n",
              "      <td>B.Tech</td>\n",
              "      <td>Artificial Intelligence</td>\n",
              "      <td>Tier 1</td>\n",
              "      <td>6</td>\n",
              "      <td>9</td>\n",
              "      <td>8</td>\n",
              "      <td>16</td>\n",
              "      <td>...</td>\n",
              "      <td>0</td>\n",
              "      <td>0</td>\n",
              "      <td>0</td>\n",
              "      <td>0</td>\n",
              "      <td>0</td>\n",
              "      <td>0</td>\n",
              "      <td>0</td>\n",
              "      <td>0</td>\n",
              "      <td>1</td>\n",
              "      <td>0</td>\n",
              "    </tr>\n",
              "    <tr>\n",
              "      <td>4663</td>\n",
              "      <td>2</td>\n",
              "      <td>32</td>\n",
              "      <td>Male</td>\n",
              "      <td>Dual MBA</td>\n",
              "      <td>Information Technology</td>\n",
              "      <td>Tier 1</td>\n",
              "      <td>7</td>\n",
              "      <td>9</td>\n",
              "      <td>16</td>\n",
              "      <td>22</td>\n",
              "      <td>...</td>\n",
              "      <td>0</td>\n",
              "      <td>0</td>\n",
              "      <td>0</td>\n",
              "      <td>0</td>\n",
              "      <td>0</td>\n",
              "      <td>0</td>\n",
              "      <td>0</td>\n",
              "      <td>0</td>\n",
              "      <td>1</td>\n",
              "      <td>0</td>\n",
              "    </tr>\n",
              "    <tr>\n",
              "      <td>516</td>\n",
              "      <td>1</td>\n",
              "      <td>28</td>\n",
              "      <td>Female</td>\n",
              "      <td>B.Tech</td>\n",
              "      <td>Electrical</td>\n",
              "      <td>Tier 2</td>\n",
              "      <td>7</td>\n",
              "      <td>5</td>\n",
              "      <td>29</td>\n",
              "      <td>36</td>\n",
              "      <td>...</td>\n",
              "      <td>0</td>\n",
              "      <td>0</td>\n",
              "      <td>0</td>\n",
              "      <td>0</td>\n",
              "      <td>1</td>\n",
              "      <td>0</td>\n",
              "      <td>0</td>\n",
              "      <td>0</td>\n",
              "      <td>0</td>\n",
              "      <td>0</td>\n",
              "    </tr>\n",
              "    <tr>\n",
              "      <td>11353</td>\n",
              "      <td>0</td>\n",
              "      <td>33</td>\n",
              "      <td>Female</td>\n",
              "      <td>B.Tech</td>\n",
              "      <td>Electronics</td>\n",
              "      <td>Tier 1</td>\n",
              "      <td>8</td>\n",
              "      <td>10</td>\n",
              "      <td>10</td>\n",
              "      <td>15</td>\n",
              "      <td>...</td>\n",
              "      <td>0</td>\n",
              "      <td>0</td>\n",
              "      <td>0</td>\n",
              "      <td>0</td>\n",
              "      <td>0</td>\n",
              "      <td>0</td>\n",
              "      <td>0</td>\n",
              "      <td>0</td>\n",
              "      <td>0</td>\n",
              "      <td>1</td>\n",
              "    </tr>\n",
              "    <tr>\n",
              "      <td>7525</td>\n",
              "      <td>0</td>\n",
              "      <td>26</td>\n",
              "      <td>Female</td>\n",
              "      <td>Dual M.Tech</td>\n",
              "      <td>Electrical</td>\n",
              "      <td>Tier 1</td>\n",
              "      <td>6</td>\n",
              "      <td>3</td>\n",
              "      <td>11</td>\n",
              "      <td>17</td>\n",
              "      <td>...</td>\n",
              "      <td>0</td>\n",
              "      <td>0</td>\n",
              "      <td>0</td>\n",
              "      <td>0</td>\n",
              "      <td>1</td>\n",
              "      <td>0</td>\n",
              "      <td>0</td>\n",
              "      <td>0</td>\n",
              "      <td>0</td>\n",
              "      <td>0</td>\n",
              "    </tr>\n",
              "    <tr>\n",
              "      <td>2324</td>\n",
              "      <td>0</td>\n",
              "      <td>29</td>\n",
              "      <td>Other</td>\n",
              "      <td>B.Tech</td>\n",
              "      <td>Artificial Intelligence</td>\n",
              "      <td>Tier 3</td>\n",
              "      <td>8</td>\n",
              "      <td>6</td>\n",
              "      <td>23</td>\n",
              "      <td>27</td>\n",
              "      <td>...</td>\n",
              "      <td>0</td>\n",
              "      <td>0</td>\n",
              "      <td>0</td>\n",
              "      <td>0</td>\n",
              "      <td>0</td>\n",
              "      <td>0</td>\n",
              "      <td>0</td>\n",
              "      <td>0</td>\n",
              "      <td>1</td>\n",
              "      <td>0</td>\n",
              "    </tr>\n",
              "    <tr>\n",
              "      <td>12697</td>\n",
              "      <td>1</td>\n",
              "      <td>26</td>\n",
              "      <td>Male</td>\n",
              "      <td>B.Tech</td>\n",
              "      <td>Electrical</td>\n",
              "      <td>Tier 1</td>\n",
              "      <td>9</td>\n",
              "      <td>3</td>\n",
              "      <td>12</td>\n",
              "      <td>18</td>\n",
              "      <td>...</td>\n",
              "      <td>1</td>\n",
              "      <td>0</td>\n",
              "      <td>0</td>\n",
              "      <td>0</td>\n",
              "      <td>0</td>\n",
              "      <td>0</td>\n",
              "      <td>0</td>\n",
              "      <td>0</td>\n",
              "      <td>0</td>\n",
              "      <td>0</td>\n",
              "    </tr>\n",
              "    <tr>\n",
              "      <td>12600</td>\n",
              "      <td>0</td>\n",
              "      <td>38</td>\n",
              "      <td>Female</td>\n",
              "      <td>M.Tech</td>\n",
              "      <td>Electronics</td>\n",
              "      <td>Tier 3</td>\n",
              "      <td>8</td>\n",
              "      <td>12</td>\n",
              "      <td>6</td>\n",
              "      <td>11</td>\n",
              "      <td>...</td>\n",
              "      <td>0</td>\n",
              "      <td>0</td>\n",
              "      <td>0</td>\n",
              "      <td>0</td>\n",
              "      <td>1</td>\n",
              "      <td>0</td>\n",
              "      <td>0</td>\n",
              "      <td>0</td>\n",
              "      <td>0</td>\n",
              "      <td>0</td>\n",
              "    </tr>\n",
              "  </tbody>\n",
              "</table>\n",
              "<p>10 rows × 27 columns</p>\n",
              "</div>"
            ],
            "text/plain": [
              "       LanguageOfCommunication  Age  Gender HighestDegree  \\\n",
              "4806                         1   25   Other   Dual M.Tech   \n",
              "7312                         0   29   Other        B.Tech   \n",
              "2590                         2   32    Male        B.Tech   \n",
              "4663                         2   32    Male      Dual MBA   \n",
              "516                          1   28  Female        B.Tech   \n",
              "11353                        0   33  Female        B.Tech   \n",
              "7525                         0   26  Female   Dual M.Tech   \n",
              "2324                         0   29   Other        B.Tech   \n",
              "12697                        1   26    Male        B.Tech   \n",
              "12600                        0   38  Female        M.Tech   \n",
              "\n",
              "                  DegreeBranch GraduatingInstitute  LatestDegreeCGPA  \\\n",
              "4806                Electrical              Tier 3                 6   \n",
              "7312   Artificial Intelligence              Tier 2                 7   \n",
              "2590   Artificial Intelligence              Tier 1                 6   \n",
              "4663    Information Technology              Tier 1                 7   \n",
              "516                 Electrical              Tier 2                 7   \n",
              "11353              Electronics              Tier 1                 8   \n",
              "7525                Electrical              Tier 1                 6   \n",
              "2324   Artificial Intelligence              Tier 3                 8   \n",
              "12697               Electrical              Tier 1                 9   \n",
              "12600              Electronics              Tier 3                 8   \n",
              "\n",
              "       YearsOfExperince  CurrentCTC  ExpectedCTC  ...  \\\n",
              "4806                  2          28           38  ...   \n",
              "7312                  6          26           36  ...   \n",
              "2590                  9           8           16  ...   \n",
              "4663                  9          16           22  ...   \n",
              "516                   5          29           36  ...   \n",
              "11353                10          10           15  ...   \n",
              "7525                  3          11           17  ...   \n",
              "2324                  6          23           27  ...   \n",
              "12697                 3          12           18  ...   \n",
              "12600                12           6           11  ...   \n",
              "\n",
              "      BiasInfluentialFactor_CurrentCompanyType  \\\n",
              "4806                                         0   \n",
              "7312                                         0   \n",
              "2590                                         0   \n",
              "4663                                         0   \n",
              "516                                          0   \n",
              "11353                                        0   \n",
              "7525                                         0   \n",
              "2324                                         0   \n",
              "12697                                        1   \n",
              "12600                                        0   \n",
              "\n",
              "       BiasInfluentialFactor_DegreeBranch BiasInfluentialFactor_EmpScore  \\\n",
              "4806                                    0                              0   \n",
              "7312                                    0                              0   \n",
              "2590                                    0                              0   \n",
              "4663                                    0                              0   \n",
              "516                                     0                              0   \n",
              "11353                                   0                              0   \n",
              "7525                                    0                              0   \n",
              "2324                                    0                              0   \n",
              "12697                                   0                              0   \n",
              "12600                                   0                              0   \n",
              "\n",
              "      BiasInfluentialFactor_Ethinicity BiasInfluentialFactor_Gender  \\\n",
              "4806                                 0                            0   \n",
              "7312                                 1                            0   \n",
              "2590                                 0                            0   \n",
              "4663                                 0                            0   \n",
              "516                                  0                            1   \n",
              "11353                                0                            0   \n",
              "7525                                 0                            1   \n",
              "2324                                 0                            0   \n",
              "12697                                0                            0   \n",
              "12600                                0                            1   \n",
              "\n",
              "       BiasInfluentialFactor_HighestDegree  \\\n",
              "4806                                     0   \n",
              "7312                                     0   \n",
              "2590                                     0   \n",
              "4663                                     0   \n",
              "516                                      0   \n",
              "11353                                    0   \n",
              "7525                                     0   \n",
              "2324                                     0   \n",
              "12697                                    0   \n",
              "12600                                    0   \n",
              "\n",
              "       BiasInfluentialFactor_LatestDegreeCGPA  \\\n",
              "4806                                        0   \n",
              "7312                                        0   \n",
              "2590                                        0   \n",
              "4663                                        0   \n",
              "516                                         0   \n",
              "11353                                       0   \n",
              "7525                                        0   \n",
              "2324                                        0   \n",
              "12697                                       0   \n",
              "12600                                       0   \n",
              "\n",
              "       BiasInfluentialFactor_MartialStatus  BiasInfluentialFactor_No_Bias  \\\n",
              "4806                                     0                              1   \n",
              "7312                                     0                              0   \n",
              "2590                                     0                              1   \n",
              "4663                                     0                              1   \n",
              "516                                      0                              0   \n",
              "11353                                    0                              0   \n",
              "7525                                     0                              0   \n",
              "2324                                     0                              1   \n",
              "12697                                    0                              0   \n",
              "12600                                    0                              0   \n",
              "\n",
              "       BiasInfluentialFactor_YearsOfExperince  \n",
              "4806                                        0  \n",
              "7312                                        0  \n",
              "2590                                        0  \n",
              "4663                                        0  \n",
              "516                                         0  \n",
              "11353                                       1  \n",
              "7525                                        0  \n",
              "2324                                        0  \n",
              "12697                                       0  \n",
              "12600                                       0  \n",
              "\n",
              "[10 rows x 27 columns]"
            ]
          },
          "execution_count": 23,
          "metadata": {},
          "output_type": "execute_result"
        }
      ],
      "source": [
        "data.sample(10)"
      ]
    },
    {
      "cell_type": "code",
      "execution_count": 24,
      "metadata": {
        "colab": {
          "base_uri": "https://localhost:8080/"
        },
        "id": "3Tmq0QB-6hIZ",
        "outputId": "052d2dd1-dabd-497c-8a7b-5b74f6e3f9e4"
      },
      "outputs": [
        {
          "data": {
            "text/plain": [
              "0    7510\n",
              "1    4733\n",
              "2    1402\n",
              "Name: LanguageOfCommunication, dtype: int64"
            ]
          },
          "execution_count": 24,
          "metadata": {},
          "output_type": "execute_result"
        }
      ],
      "source": [
        "data['LanguageOfCommunication'].value_counts()"
      ]
    },
    {
      "cell_type": "code",
      "execution_count": 25,
      "metadata": {
        "colab": {
          "base_uri": "https://localhost:8080/"
        },
        "id": "8z3664TB6u7d",
        "outputId": "ba89d38b-dc8c-4552-c09c-3b19c847d121"
      },
      "outputs": [
        {
          "data": {
            "text/plain": [
              "array([1, 0, 2], dtype=int64)"
            ]
          },
          "execution_count": 25,
          "metadata": {},
          "output_type": "execute_result"
        }
      ],
      "source": [
        "from sklearn import preprocessing\n",
        "  \n",
        "# label_encoder object knows how to understand word labels.\n",
        "label_encoder = preprocessing.LabelEncoder()\n",
        "  \n",
        "# Encode labels in column 'species'.\n",
        "data['Gender']= label_encoder.fit_transform(data['Gender'])\n",
        "  \n",
        "data['Gender'].unique()"
      ]
    },
    {
      "cell_type": "code",
      "execution_count": 26,
      "metadata": {
        "colab": {
          "base_uri": "https://localhost:8080/"
        },
        "id": "kmyuzuja7GX4",
        "outputId": "bf4cd5cd-ff98-48dc-894c-26655a0fa211"
      },
      "outputs": [
        {
          "data": {
            "text/plain": [
              "1    8376\n",
              "0    4326\n",
              "2     943\n",
              "Name: Gender, dtype: int64"
            ]
          },
          "execution_count": 26,
          "metadata": {},
          "output_type": "execute_result"
        }
      ],
      "source": [
        "data['Gender'].value_counts()"
      ]
    },
    {
      "cell_type": "code",
      "execution_count": 27,
      "metadata": {
        "colab": {
          "base_uri": "https://localhost:8080/"
        },
        "id": "wFJOhwlf7JCF",
        "outputId": "d8b6dd77-056c-4608-fa76-a6427311985f"
      },
      "outputs": [
        {
          "data": {
            "text/plain": [
              "array([0, 7, 1, 2, 4, 6, 3, 5], dtype=int64)"
            ]
          },
          "execution_count": 27,
          "metadata": {},
          "output_type": "execute_result"
        }
      ],
      "source": [
        "# Encode labels in column 'species'.\n",
        "data['HighestDegree']= label_encoder.fit_transform(data['HighestDegree'])\n",
        "  \n",
        "data['HighestDegree'].unique()"
      ]
    },
    {
      "cell_type": "code",
      "execution_count": 28,
      "metadata": {
        "colab": {
          "base_uri": "https://localhost:8080/"
        },
        "id": "W4uK6YhF8BB4",
        "outputId": "8a67f965-bca3-4bb4-8672-963444db57d2"
      },
      "outputs": [
        {
          "data": {
            "text/plain": [
              "array([2, 0, 1, 5, 4, 3], dtype=int64)"
            ]
          },
          "execution_count": 28,
          "metadata": {},
          "output_type": "execute_result"
        }
      ],
      "source": [
        "# Encode labels in column 'species'.\n",
        "data['DegreeBranch']= label_encoder.fit_transform(data['DegreeBranch'])\n",
        "  \n",
        "data['DegreeBranch'].unique()"
      ]
    },
    {
      "cell_type": "code",
      "execution_count": 29,
      "metadata": {
        "colab": {
          "base_uri": "https://localhost:8080/"
        },
        "id": "kf3RrLC_8BZ8",
        "outputId": "029bb234-5c2e-4394-dafd-97fe8e7282c8"
      },
      "outputs": [
        {
          "data": {
            "text/plain": [
              "array([0, 2, 1], dtype=int64)"
            ]
          },
          "execution_count": 29,
          "metadata": {},
          "output_type": "execute_result"
        }
      ],
      "source": [
        "# Encode labels in column 'species'.\n",
        "data['GraduatingInstitute']= label_encoder.fit_transform(data['GraduatingInstitute'])\n",
        "  \n",
        "data['GraduatingInstitute'].unique()"
      ]
    },
    {
      "cell_type": "code",
      "execution_count": 30,
      "metadata": {
        "colab": {
          "base_uri": "https://localhost:8080/"
        },
        "id": "4X01sJcI8B-O",
        "outputId": "d2994efc-791a-41a6-9828-1876220c041b"
      },
      "outputs": [
        {
          "data": {
            "text/plain": [
              "array([0, 1], dtype=int64)"
            ]
          },
          "execution_count": 30,
          "metadata": {},
          "output_type": "execute_result"
        }
      ],
      "source": [
        "# Encode labels in column 'species'.\n",
        "data['MartialStatus']= label_encoder.fit_transform(data['MartialStatus'])\n",
        "  \n",
        "data['MartialStatus'].unique()"
      ]
    },
    {
      "cell_type": "code",
      "execution_count": 31,
      "metadata": {
        "colab": {
          "base_uri": "https://localhost:8080/"
        },
        "id": "51DjFv8E8Xg-",
        "outputId": "efd8ceb1-f98c-4e1d-da9c-fd14aec7baed"
      },
      "outputs": [
        {
          "data": {
            "text/plain": [
              "array([7, 0, 5, 3, 4, 1, 6, 2], dtype=int64)"
            ]
          },
          "execution_count": 31,
          "metadata": {},
          "output_type": "execute_result"
        }
      ],
      "source": [
        "# Encode labels in column 'species'.\n",
        "data['CurrentDesignation']= label_encoder.fit_transform(data['CurrentDesignation'])\n",
        "  \n",
        "data['CurrentDesignation'].unique()"
      ]
    },
    {
      "cell_type": "code",
      "execution_count": 32,
      "metadata": {
        "colab": {
          "base_uri": "https://localhost:8080/"
        },
        "id": "gYcktvbA8YF8",
        "outputId": "c715fb3b-52a6-4263-e539-2ea277aa4dbe"
      },
      "outputs": [
        {
          "data": {
            "text/plain": [
              "array([0, 1, 2], dtype=int64)"
            ]
          },
          "execution_count": 32,
          "metadata": {},
          "output_type": "execute_result"
        }
      ],
      "source": [
        "# Encode labels in column 'species'.\n",
        "data['CurrentCompanyType']= label_encoder.fit_transform(data['CurrentCompanyType'])\n",
        "  \n",
        "data['CurrentCompanyType'].unique()"
      ]
    },
    {
      "cell_type": "code",
      "execution_count": 33,
      "metadata": {
        "colab": {
          "base_uri": "https://localhost:8080/"
        },
        "id": "Fxu2MiIY8Yej",
        "outputId": "b39e98c8-7e6d-40ee-cb17-2d13986f204b"
      },
      "outputs": [
        {
          "data": {
            "text/plain": [
              "array([1, 2, 4, 0, 3], dtype=int64)"
            ]
          },
          "execution_count": 33,
          "metadata": {},
          "output_type": "execute_result"
        }
      ],
      "source": [
        "# Encode labels in column 'species'.\n",
        "data['DepartmentInCompany']= label_encoder.fit_transform(data['DepartmentInCompany'])\n",
        "  \n",
        "data['DepartmentInCompany'].unique()"
      ]
    },
    {
      "cell_type": "code",
      "execution_count": 34,
      "metadata": {
        "colab": {
          "base_uri": "https://localhost:8080/",
          "height": 456
        },
        "id": "c7CDJrqh8yZl",
        "outputId": "e0fac842-adab-43cc-b416-84079701e3fe"
      },
      "outputs": [
        {
          "data": {
            "text/html": [
              "<div>\n",
              "<style scoped>\n",
              "    .dataframe tbody tr th:only-of-type {\n",
              "        vertical-align: middle;\n",
              "    }\n",
              "\n",
              "    .dataframe tbody tr th {\n",
              "        vertical-align: top;\n",
              "    }\n",
              "\n",
              "    .dataframe thead th {\n",
              "        text-align: right;\n",
              "    }\n",
              "</style>\n",
              "<table border=\"1\" class=\"dataframe\">\n",
              "  <thead>\n",
              "    <tr style=\"text-align: right;\">\n",
              "      <th></th>\n",
              "      <th>LanguageOfCommunication</th>\n",
              "      <th>Age</th>\n",
              "      <th>Gender</th>\n",
              "      <th>HighestDegree</th>\n",
              "      <th>DegreeBranch</th>\n",
              "      <th>GraduatingInstitute</th>\n",
              "      <th>LatestDegreeCGPA</th>\n",
              "      <th>YearsOfExperince</th>\n",
              "      <th>CurrentCTC</th>\n",
              "      <th>ExpectedCTC</th>\n",
              "      <th>...</th>\n",
              "      <th>BiasInfluentialFactor_CurrentCompanyType</th>\n",
              "      <th>BiasInfluentialFactor_DegreeBranch</th>\n",
              "      <th>BiasInfluentialFactor_EmpScore</th>\n",
              "      <th>BiasInfluentialFactor_Ethinicity</th>\n",
              "      <th>BiasInfluentialFactor_Gender</th>\n",
              "      <th>BiasInfluentialFactor_HighestDegree</th>\n",
              "      <th>BiasInfluentialFactor_LatestDegreeCGPA</th>\n",
              "      <th>BiasInfluentialFactor_MartialStatus</th>\n",
              "      <th>BiasInfluentialFactor_No_Bias</th>\n",
              "      <th>BiasInfluentialFactor_YearsOfExperince</th>\n",
              "    </tr>\n",
              "  </thead>\n",
              "  <tbody>\n",
              "    <tr>\n",
              "      <td>12404</td>\n",
              "      <td>0</td>\n",
              "      <td>38</td>\n",
              "      <td>2</td>\n",
              "      <td>7</td>\n",
              "      <td>5</td>\n",
              "      <td>0</td>\n",
              "      <td>9</td>\n",
              "      <td>8</td>\n",
              "      <td>19</td>\n",
              "      <td>27</td>\n",
              "      <td>...</td>\n",
              "      <td>0</td>\n",
              "      <td>0</td>\n",
              "      <td>0</td>\n",
              "      <td>0</td>\n",
              "      <td>0</td>\n",
              "      <td>0</td>\n",
              "      <td>0</td>\n",
              "      <td>0</td>\n",
              "      <td>1</td>\n",
              "      <td>0</td>\n",
              "    </tr>\n",
              "    <tr>\n",
              "      <td>12427</td>\n",
              "      <td>0</td>\n",
              "      <td>27</td>\n",
              "      <td>1</td>\n",
              "      <td>1</td>\n",
              "      <td>2</td>\n",
              "      <td>1</td>\n",
              "      <td>9</td>\n",
              "      <td>4</td>\n",
              "      <td>19</td>\n",
              "      <td>25</td>\n",
              "      <td>...</td>\n",
              "      <td>0</td>\n",
              "      <td>0</td>\n",
              "      <td>0</td>\n",
              "      <td>1</td>\n",
              "      <td>0</td>\n",
              "      <td>0</td>\n",
              "      <td>0</td>\n",
              "      <td>0</td>\n",
              "      <td>0</td>\n",
              "      <td>0</td>\n",
              "    </tr>\n",
              "    <tr>\n",
              "      <td>4848</td>\n",
              "      <td>1</td>\n",
              "      <td>30</td>\n",
              "      <td>1</td>\n",
              "      <td>2</td>\n",
              "      <td>5</td>\n",
              "      <td>2</td>\n",
              "      <td>7</td>\n",
              "      <td>7</td>\n",
              "      <td>22</td>\n",
              "      <td>26</td>\n",
              "      <td>...</td>\n",
              "      <td>0</td>\n",
              "      <td>1</td>\n",
              "      <td>0</td>\n",
              "      <td>0</td>\n",
              "      <td>0</td>\n",
              "      <td>0</td>\n",
              "      <td>0</td>\n",
              "      <td>0</td>\n",
              "      <td>0</td>\n",
              "      <td>0</td>\n",
              "    </tr>\n",
              "    <tr>\n",
              "      <td>769</td>\n",
              "      <td>2</td>\n",
              "      <td>26</td>\n",
              "      <td>0</td>\n",
              "      <td>0</td>\n",
              "      <td>5</td>\n",
              "      <td>1</td>\n",
              "      <td>6</td>\n",
              "      <td>3</td>\n",
              "      <td>26</td>\n",
              "      <td>33</td>\n",
              "      <td>...</td>\n",
              "      <td>0</td>\n",
              "      <td>0</td>\n",
              "      <td>0</td>\n",
              "      <td>0</td>\n",
              "      <td>1</td>\n",
              "      <td>0</td>\n",
              "      <td>0</td>\n",
              "      <td>0</td>\n",
              "      <td>0</td>\n",
              "      <td>0</td>\n",
              "    </tr>\n",
              "    <tr>\n",
              "      <td>9098</td>\n",
              "      <td>0</td>\n",
              "      <td>36</td>\n",
              "      <td>1</td>\n",
              "      <td>4</td>\n",
              "      <td>0</td>\n",
              "      <td>0</td>\n",
              "      <td>6</td>\n",
              "      <td>10</td>\n",
              "      <td>19</td>\n",
              "      <td>24</td>\n",
              "      <td>...</td>\n",
              "      <td>0</td>\n",
              "      <td>0</td>\n",
              "      <td>0</td>\n",
              "      <td>0</td>\n",
              "      <td>0</td>\n",
              "      <td>0</td>\n",
              "      <td>0</td>\n",
              "      <td>0</td>\n",
              "      <td>1</td>\n",
              "      <td>0</td>\n",
              "    </tr>\n",
              "    <tr>\n",
              "      <td>6513</td>\n",
              "      <td>1</td>\n",
              "      <td>36</td>\n",
              "      <td>1</td>\n",
              "      <td>6</td>\n",
              "      <td>5</td>\n",
              "      <td>0</td>\n",
              "      <td>7</td>\n",
              "      <td>10</td>\n",
              "      <td>6</td>\n",
              "      <td>13</td>\n",
              "      <td>...</td>\n",
              "      <td>0</td>\n",
              "      <td>0</td>\n",
              "      <td>0</td>\n",
              "      <td>0</td>\n",
              "      <td>0</td>\n",
              "      <td>1</td>\n",
              "      <td>0</td>\n",
              "      <td>0</td>\n",
              "      <td>0</td>\n",
              "      <td>0</td>\n",
              "    </tr>\n",
              "    <tr>\n",
              "      <td>2034</td>\n",
              "      <td>0</td>\n",
              "      <td>24</td>\n",
              "      <td>1</td>\n",
              "      <td>3</td>\n",
              "      <td>0</td>\n",
              "      <td>1</td>\n",
              "      <td>5</td>\n",
              "      <td>1</td>\n",
              "      <td>18</td>\n",
              "      <td>22</td>\n",
              "      <td>...</td>\n",
              "      <td>0</td>\n",
              "      <td>0</td>\n",
              "      <td>1</td>\n",
              "      <td>0</td>\n",
              "      <td>0</td>\n",
              "      <td>0</td>\n",
              "      <td>0</td>\n",
              "      <td>0</td>\n",
              "      <td>0</td>\n",
              "      <td>0</td>\n",
              "    </tr>\n",
              "    <tr>\n",
              "      <td>7204</td>\n",
              "      <td>2</td>\n",
              "      <td>24</td>\n",
              "      <td>0</td>\n",
              "      <td>1</td>\n",
              "      <td>0</td>\n",
              "      <td>0</td>\n",
              "      <td>7</td>\n",
              "      <td>1</td>\n",
              "      <td>24</td>\n",
              "      <td>32</td>\n",
              "      <td>...</td>\n",
              "      <td>0</td>\n",
              "      <td>0</td>\n",
              "      <td>0</td>\n",
              "      <td>0</td>\n",
              "      <td>1</td>\n",
              "      <td>0</td>\n",
              "      <td>0</td>\n",
              "      <td>0</td>\n",
              "      <td>0</td>\n",
              "      <td>0</td>\n",
              "    </tr>\n",
              "    <tr>\n",
              "      <td>4065</td>\n",
              "      <td>1</td>\n",
              "      <td>27</td>\n",
              "      <td>2</td>\n",
              "      <td>6</td>\n",
              "      <td>5</td>\n",
              "      <td>1</td>\n",
              "      <td>7</td>\n",
              "      <td>1</td>\n",
              "      <td>13</td>\n",
              "      <td>21</td>\n",
              "      <td>...</td>\n",
              "      <td>0</td>\n",
              "      <td>0</td>\n",
              "      <td>0</td>\n",
              "      <td>0</td>\n",
              "      <td>0</td>\n",
              "      <td>0</td>\n",
              "      <td>0</td>\n",
              "      <td>0</td>\n",
              "      <td>1</td>\n",
              "      <td>0</td>\n",
              "    </tr>\n",
              "    <tr>\n",
              "      <td>7351</td>\n",
              "      <td>0</td>\n",
              "      <td>35</td>\n",
              "      <td>1</td>\n",
              "      <td>2</td>\n",
              "      <td>1</td>\n",
              "      <td>1</td>\n",
              "      <td>8</td>\n",
              "      <td>12</td>\n",
              "      <td>18</td>\n",
              "      <td>26</td>\n",
              "      <td>...</td>\n",
              "      <td>0</td>\n",
              "      <td>0</td>\n",
              "      <td>0</td>\n",
              "      <td>0</td>\n",
              "      <td>0</td>\n",
              "      <td>0</td>\n",
              "      <td>0</td>\n",
              "      <td>0</td>\n",
              "      <td>0</td>\n",
              "      <td>1</td>\n",
              "    </tr>\n",
              "  </tbody>\n",
              "</table>\n",
              "<p>10 rows × 27 columns</p>\n",
              "</div>"
            ],
            "text/plain": [
              "       LanguageOfCommunication  Age  Gender  HighestDegree  DegreeBranch  \\\n",
              "12404                        0   38       2              7             5   \n",
              "12427                        0   27       1              1             2   \n",
              "4848                         1   30       1              2             5   \n",
              "769                          2   26       0              0             5   \n",
              "9098                         0   36       1              4             0   \n",
              "6513                         1   36       1              6             5   \n",
              "2034                         0   24       1              3             0   \n",
              "7204                         2   24       0              1             0   \n",
              "4065                         1   27       2              6             5   \n",
              "7351                         0   35       1              2             1   \n",
              "\n",
              "       GraduatingInstitute  LatestDegreeCGPA  YearsOfExperince  CurrentCTC  \\\n",
              "12404                    0                 9                 8          19   \n",
              "12427                    1                 9                 4          19   \n",
              "4848                     2                 7                 7          22   \n",
              "769                      1                 6                 3          26   \n",
              "9098                     0                 6                10          19   \n",
              "6513                     0                 7                10           6   \n",
              "2034                     1                 5                 1          18   \n",
              "7204                     0                 7                 1          24   \n",
              "4065                     1                 7                 1          13   \n",
              "7351                     1                 8                12          18   \n",
              "\n",
              "       ExpectedCTC  ...  BiasInfluentialFactor_CurrentCompanyType  \\\n",
              "12404           27  ...                                         0   \n",
              "12427           25  ...                                         0   \n",
              "4848            26  ...                                         0   \n",
              "769             33  ...                                         0   \n",
              "9098            24  ...                                         0   \n",
              "6513            13  ...                                         0   \n",
              "2034            22  ...                                         0   \n",
              "7204            32  ...                                         0   \n",
              "4065            21  ...                                         0   \n",
              "7351            26  ...                                         0   \n",
              "\n",
              "       BiasInfluentialFactor_DegreeBranch  BiasInfluentialFactor_EmpScore  \\\n",
              "12404                                   0                               0   \n",
              "12427                                   0                               0   \n",
              "4848                                    1                               0   \n",
              "769                                     0                               0   \n",
              "9098                                    0                               0   \n",
              "6513                                    0                               0   \n",
              "2034                                    0                               1   \n",
              "7204                                    0                               0   \n",
              "4065                                    0                               0   \n",
              "7351                                    0                               0   \n",
              "\n",
              "       BiasInfluentialFactor_Ethinicity  BiasInfluentialFactor_Gender  \\\n",
              "12404                                 0                             0   \n",
              "12427                                 1                             0   \n",
              "4848                                  0                             0   \n",
              "769                                   0                             1   \n",
              "9098                                  0                             0   \n",
              "6513                                  0                             0   \n",
              "2034                                  0                             0   \n",
              "7204                                  0                             1   \n",
              "4065                                  0                             0   \n",
              "7351                                  0                             0   \n",
              "\n",
              "       BiasInfluentialFactor_HighestDegree  \\\n",
              "12404                                    0   \n",
              "12427                                    0   \n",
              "4848                                     0   \n",
              "769                                      0   \n",
              "9098                                     0   \n",
              "6513                                     1   \n",
              "2034                                     0   \n",
              "7204                                     0   \n",
              "4065                                     0   \n",
              "7351                                     0   \n",
              "\n",
              "       BiasInfluentialFactor_LatestDegreeCGPA  \\\n",
              "12404                                       0   \n",
              "12427                                       0   \n",
              "4848                                        0   \n",
              "769                                         0   \n",
              "9098                                        0   \n",
              "6513                                        0   \n",
              "2034                                        0   \n",
              "7204                                        0   \n",
              "4065                                        0   \n",
              "7351                                        0   \n",
              "\n",
              "       BiasInfluentialFactor_MartialStatus  BiasInfluentialFactor_No_Bias  \\\n",
              "12404                                    0                              1   \n",
              "12427                                    0                              0   \n",
              "4848                                     0                              0   \n",
              "769                                      0                              0   \n",
              "9098                                     0                              1   \n",
              "6513                                     0                              0   \n",
              "2034                                     0                              0   \n",
              "7204                                     0                              0   \n",
              "4065                                     0                              1   \n",
              "7351                                     0                              0   \n",
              "\n",
              "       BiasInfluentialFactor_YearsOfExperince  \n",
              "12404                                       0  \n",
              "12427                                       0  \n",
              "4848                                        0  \n",
              "769                                         0  \n",
              "9098                                        0  \n",
              "6513                                        0  \n",
              "2034                                        0  \n",
              "7204                                        0  \n",
              "4065                                        0  \n",
              "7351                                        1  \n",
              "\n",
              "[10 rows x 27 columns]"
            ]
          },
          "execution_count": 34,
          "metadata": {},
          "output_type": "execute_result"
        }
      ],
      "source": [
        "data.sample(10)"
      ]
    },
    {
      "cell_type": "code",
      "execution_count": 35,
      "metadata": {
        "colab": {
          "base_uri": "https://localhost:8080/",
          "height": 453
        },
        "id": "TDQVf9GM80Dm",
        "outputId": "9d31e3f6-f598-4215-89b7-15abd9d9799e"
      },
      "outputs": [
        {
          "data": {
            "image/png": "[encoded data removed]",
            "text/plain": [
              "<Figure size 432x288 with 2 Axes>"
            ]
          },
          "metadata": {
            "needs_background": "light"
          },
          "output_type": "display_data"
        }
      ],
      "source": [
        "sb.heatmap(data.corr());"
      ]
    },
    {
      "cell_type": "code",
      "execution_count": 36,
      "metadata": {
        "id": "qXbeTTZ8ALYn"
      },
      "outputs": [],
      "source": [
        "from sklearn.model_selection import train_test_split"
      ]
    },
    {
      "cell_type": "code",
      "execution_count": 37,
      "metadata": {
        "id": "APg0E7qYAxDI"
      },
      "outputs": [],
      "source": [
        "y=data['FitmentPercent']\n",
        "x=data.drop('FitmentPercent',axis=1)\n"
      ]
    },
    {
      "cell_type": "code",
      "execution_count": 38,
      "metadata": {
        "colab": {
          "base_uri": "https://localhost:8080/"
        },
        "id": "g1B-eRY4BaMl",
        "outputId": "7398ff8b-5118-4ab0-a38f-a6253548ccd2"
      },
      "outputs": [
        {
          "data": {
            "text/plain": [
              "0    95.40\n",
              "1    67.09\n",
              "2    91.26\n",
              "3    72.29\n",
              "4    86.34\n",
              "Name: FitmentPercent, dtype: float64"
            ]
          },
          "execution_count": 38,
          "metadata": {},
          "output_type": "execute_result"
        }
      ],
      "source": [
        "y[:5]"
      ]
    },
    {
      "cell_type": "code",
      "execution_count": 39,
      "metadata": {
        "colab": {
          "base_uri": "https://localhost:8080/",
          "height": 299
        },
        "id": "31p6koYTBiG7",
        "outputId": "84596f03-a662-4d65-98b6-1ff4ed87f3b7"
      },
      "outputs": [
        {
          "data": {
            "text/html": [
              "<div>\n",
              "<style scoped>\n",
              "    .dataframe tbody tr th:only-of-type {\n",
              "        vertical-align: middle;\n",
              "    }\n",
              "\n",
              "    .dataframe tbody tr th {\n",
              "        vertical-align: top;\n",
              "    }\n",
              "\n",
              "    .dataframe thead th {\n",
              "        text-align: right;\n",
              "    }\n",
              "</style>\n",
              "<table border=\"1\" class=\"dataframe\">\n",
              "  <thead>\n",
              "    <tr style=\"text-align: right;\">\n",
              "      <th></th>\n",
              "      <th>LanguageOfCommunication</th>\n",
              "      <th>Age</th>\n",
              "      <th>Gender</th>\n",
              "      <th>HighestDegree</th>\n",
              "      <th>DegreeBranch</th>\n",
              "      <th>GraduatingInstitute</th>\n",
              "      <th>LatestDegreeCGPA</th>\n",
              "      <th>YearsOfExperince</th>\n",
              "      <th>CurrentCTC</th>\n",
              "      <th>ExpectedCTC</th>\n",
              "      <th>...</th>\n",
              "      <th>BiasInfluentialFactor_CurrentCompanyType</th>\n",
              "      <th>BiasInfluentialFactor_DegreeBranch</th>\n",
              "      <th>BiasInfluentialFactor_EmpScore</th>\n",
              "      <th>BiasInfluentialFactor_Ethinicity</th>\n",
              "      <th>BiasInfluentialFactor_Gender</th>\n",
              "      <th>BiasInfluentialFactor_HighestDegree</th>\n",
              "      <th>BiasInfluentialFactor_LatestDegreeCGPA</th>\n",
              "      <th>BiasInfluentialFactor_MartialStatus</th>\n",
              "      <th>BiasInfluentialFactor_No_Bias</th>\n",
              "      <th>BiasInfluentialFactor_YearsOfExperince</th>\n",
              "    </tr>\n",
              "  </thead>\n",
              "  <tbody>\n",
              "    <tr>\n",
              "      <td>0</td>\n",
              "      <td>0</td>\n",
              "      <td>35</td>\n",
              "      <td>1</td>\n",
              "      <td>0</td>\n",
              "      <td>2</td>\n",
              "      <td>0</td>\n",
              "      <td>7</td>\n",
              "      <td>12</td>\n",
              "      <td>21</td>\n",
              "      <td>26</td>\n",
              "      <td>...</td>\n",
              "      <td>0</td>\n",
              "      <td>0</td>\n",
              "      <td>0</td>\n",
              "      <td>0</td>\n",
              "      <td>0</td>\n",
              "      <td>0</td>\n",
              "      <td>0</td>\n",
              "      <td>0</td>\n",
              "      <td>0</td>\n",
              "      <td>1</td>\n",
              "    </tr>\n",
              "    <tr>\n",
              "      <td>1</td>\n",
              "      <td>0</td>\n",
              "      <td>26</td>\n",
              "      <td>1</td>\n",
              "      <td>0</td>\n",
              "      <td>0</td>\n",
              "      <td>2</td>\n",
              "      <td>7</td>\n",
              "      <td>3</td>\n",
              "      <td>15</td>\n",
              "      <td>19</td>\n",
              "      <td>...</td>\n",
              "      <td>0</td>\n",
              "      <td>0</td>\n",
              "      <td>0</td>\n",
              "      <td>0</td>\n",
              "      <td>0</td>\n",
              "      <td>0</td>\n",
              "      <td>0</td>\n",
              "      <td>0</td>\n",
              "      <td>1</td>\n",
              "      <td>0</td>\n",
              "    </tr>\n",
              "    <tr>\n",
              "      <td>2</td>\n",
              "      <td>0</td>\n",
              "      <td>36</td>\n",
              "      <td>0</td>\n",
              "      <td>7</td>\n",
              "      <td>1</td>\n",
              "      <td>0</td>\n",
              "      <td>6</td>\n",
              "      <td>6</td>\n",
              "      <td>15</td>\n",
              "      <td>24</td>\n",
              "      <td>...</td>\n",
              "      <td>0</td>\n",
              "      <td>0</td>\n",
              "      <td>0</td>\n",
              "      <td>0</td>\n",
              "      <td>1</td>\n",
              "      <td>0</td>\n",
              "      <td>0</td>\n",
              "      <td>0</td>\n",
              "      <td>0</td>\n",
              "      <td>0</td>\n",
              "    </tr>\n",
              "    <tr>\n",
              "      <td>3</td>\n",
              "      <td>0</td>\n",
              "      <td>29</td>\n",
              "      <td>0</td>\n",
              "      <td>1</td>\n",
              "      <td>5</td>\n",
              "      <td>1</td>\n",
              "      <td>5</td>\n",
              "      <td>6</td>\n",
              "      <td>16</td>\n",
              "      <td>24</td>\n",
              "      <td>...</td>\n",
              "      <td>0</td>\n",
              "      <td>0</td>\n",
              "      <td>0</td>\n",
              "      <td>0</td>\n",
              "      <td>1</td>\n",
              "      <td>0</td>\n",
              "      <td>0</td>\n",
              "      <td>0</td>\n",
              "      <td>0</td>\n",
              "      <td>0</td>\n",
              "    </tr>\n",
              "    <tr>\n",
              "      <td>4</td>\n",
              "      <td>0</td>\n",
              "      <td>25</td>\n",
              "      <td>1</td>\n",
              "      <td>2</td>\n",
              "      <td>1</td>\n",
              "      <td>2</td>\n",
              "      <td>8</td>\n",
              "      <td>2</td>\n",
              "      <td>24</td>\n",
              "      <td>32</td>\n",
              "      <td>...</td>\n",
              "      <td>0</td>\n",
              "      <td>1</td>\n",
              "      <td>0</td>\n",
              "      <td>0</td>\n",
              "      <td>0</td>\n",
              "      <td>0</td>\n",
              "      <td>0</td>\n",
              "      <td>0</td>\n",
              "      <td>0</td>\n",
              "      <td>0</td>\n",
              "    </tr>\n",
              "  </tbody>\n",
              "</table>\n",
              "<p>5 rows × 26 columns</p>\n",
              "</div>"
            ],
            "text/plain": [
              "   LanguageOfCommunication  Age  Gender  HighestDegree  DegreeBranch  \\\n",
              "0                        0   35       1              0             2   \n",
              "1                        0   26       1              0             0   \n",
              "2                        0   36       0              7             1   \n",
              "3                        0   29       0              1             5   \n",
              "4                        0   25       1              2             1   \n",
              "\n",
              "   GraduatingInstitute  LatestDegreeCGPA  YearsOfExperince  CurrentCTC  \\\n",
              "0                    0                 7                12          21   \n",
              "1                    2                 7                 3          15   \n",
              "2                    0                 6                 6          15   \n",
              "3                    1                 5                 6          16   \n",
              "4                    2                 8                 2          24   \n",
              "\n",
              "   ExpectedCTC  ...  BiasInfluentialFactor_CurrentCompanyType  \\\n",
              "0           26  ...                                         0   \n",
              "1           19  ...                                         0   \n",
              "2           24  ...                                         0   \n",
              "3           24  ...                                         0   \n",
              "4           32  ...                                         0   \n",
              "\n",
              "   BiasInfluentialFactor_DegreeBranch  BiasInfluentialFactor_EmpScore  \\\n",
              "0                                   0                               0   \n",
              "1                                   0                               0   \n",
              "2                                   0                               0   \n",
              "3                                   0                               0   \n",
              "4                                   1                               0   \n",
              "\n",
              "   BiasInfluentialFactor_Ethinicity  BiasInfluentialFactor_Gender  \\\n",
              "0                                 0                             0   \n",
              "1                                 0                             0   \n",
              "2                                 0                             1   \n",
              "3                                 0                             1   \n",
              "4                                 0                             0   \n",
              "\n",
              "   BiasInfluentialFactor_HighestDegree  \\\n",
              "0                                    0   \n",
              "1                                    0   \n",
              "2                                    0   \n",
              "3                                    0   \n",
              "4                                    0   \n",
              "\n",
              "   BiasInfluentialFactor_LatestDegreeCGPA  \\\n",
              "0                                       0   \n",
              "1                                       0   \n",
              "2                                       0   \n",
              "3                                       0   \n",
              "4                                       0   \n",
              "\n",
              "   BiasInfluentialFactor_MartialStatus  BiasInfluentialFactor_No_Bias  \\\n",
              "0                                    0                              0   \n",
              "1                                    0                              1   \n",
              "2                                    0                              0   \n",
              "3                                    0                              0   \n",
              "4                                    0                              0   \n",
              "\n",
              "   BiasInfluentialFactor_YearsOfExperince  \n",
              "0                                       1  \n",
              "1                                       0  \n",
              "2                                       0  \n",
              "3                                       0  \n",
              "4                                       0  \n",
              "\n",
              "[5 rows x 26 columns]"
            ]
          },
          "execution_count": 39,
          "metadata": {},
          "output_type": "execute_result"
        }
      ],
      "source": [
        "x[:5]"
      ]
    },
    {
      "cell_type": "code",
      "execution_count": 40,
      "metadata": {
        "id": "ntJ4J06TBkAd"
      },
      "outputs": [],
      "source": [
        "# Split the data set into train and test\n",
        "np.random.seed(0)\n",
        "x_train, x_test, y_train, y_test = train_test_split(x, y, test_size=0.3, random_state=3)"
      ]
    },
    {
      "cell_type": "code",
      "execution_count": 41,
      "metadata": {
        "id": "zPPk_I84CTv_"
      },
      "outputs": [],
      "source": [
        "from sklearn.linear_model import LinearRegression"
      ]
    },
    {
      "cell_type": "code",
      "execution_count": 42,
      "metadata": {
        "id": "fvYzHRKPDZ4n"
      },
      "outputs": [],
      "source": [
        "lm = LinearRegression()"
      ]
    },
    {
      "cell_type": "code",
      "execution_count": 43,
      "metadata": {
        "colab": {
          "base_uri": "https://localhost:8080/"
        },
        "id": "kJ6cg-RTEF84",
        "outputId": "5c727674-7a90-4f31-c6bb-f1a0f6aab44a"
      },
      "outputs": [
        {
          "data": {
            "text/plain": [
              "LinearRegression(copy_X=True, fit_intercept=True, n_jobs=None, normalize=False)"
            ]
          },
          "execution_count": 43,
          "metadata": {},
          "output_type": "execute_result"
        }
      ],
      "source": [
        "lm.fit(x_train,y_train)"
      ]
    },
    {
      "cell_type": "code",
      "execution_count": 44,
      "metadata": {
        "id": "Vn87ISi3E75H"
      },
      "outputs": [],
      "source": [
        "from sklearn.metrics import accuracy_score"
      ]
    },
    {
      "cell_type": "code",
      "execution_count": 45,
      "metadata": {
        "colab": {
          "base_uri": "https://localhost:8080/"
        },
        "id": "nDmto6QLFRNG",
        "outputId": "5d408367-fbc2-4cbe-9270-00e5825340e6"
      },
      "outputs": [
        {
          "name": "stdout",
          "output_type": "stream",
          "text": [
            "Coefficients: \n",
            " [ 1.11359463e-01  1.61534229e-01 -5.25875251e+00 -2.66065580e-01\n",
            " -9.29528022e-02 -2.18731554e-01 -7.32545727e-02 -2.94095197e-01\n",
            "  1.51300318e-01  4.46579358e-02  4.11684069e-01  5.21605278e-01\n",
            "  5.39615730e-04  3.64092429e+00  9.71832215e-02 -3.22574596e-02\n",
            " -2.95041492e+00  5.39290749e+00  6.21742027e+00  6.49742729e+00\n",
            " -8.87511436e-01  6.17952430e+00 -1.30297652e+01  6.37175212e+00\n",
            " -1.80667529e+01  4.27541292e+00]\n"
          ]
        }
      ],
      "source": [
        "# The coefficients\n",
        "print('Coefficients: \\n', lm.coef_)"
      ]
    },
    {
      "cell_type": "code",
      "execution_count": 46,
      "metadata": {
        "id": "0opqOF9kF2j6"
      },
      "outputs": [],
      "source": [
        "predictions = lm.predict( x_test)"
      ]
    },
    {
      "cell_type": "code",
      "execution_count": 47,
      "metadata": {
        "colab": {
          "base_uri": "https://localhost:8080/",
          "height": 296
        },
        "id": "8aoLbn9DF-rZ",
        "outputId": "fa6f2ccf-f064-439d-c2a1-7eea400eb52f"
      },
      "outputs": [
        {
          "data": {
            "text/plain": [
              "Text(0, 0.5, 'Predicted Y')"
            ]
          },
          "execution_count": 47,
          "metadata": {},
          "output_type": "execute_result"
        },
        {
          "data": {
            "image/png": "[encoded data removed]",
            "text/plain": [
              "<Figure size 432x288 with 1 Axes>"
            ]
          },
          "metadata": {
            "needs_background": "light"
          },
          "output_type": "display_data"
        }
      ],
      "source": [
        "plt.scatter(y_test,predictions)\n",
        "plt.xlabel('Y Test')\n",
        "plt.ylabel('Predicted Y')"
      ]
    },
    {
      "cell_type": "code",
      "execution_count": 48,
      "metadata": {
        "colab": {
          "base_uri": "https://localhost:8080/"
        },
        "id": "0bc1i32ZGGIm",
        "outputId": "893497b7-a63a-4335-df3e-5b7e9c40def6"
      },
      "outputs": [
        {
          "name": "stdout",
          "output_type": "stream",
          "text": [
            "MAE: 7.269625320265244\n",
            "MSE: 83.68877109640837\n",
            "RMSE: 9.148156704845428\n"
          ]
        }
      ],
      "source": [
        "# calculate these metrics by hand!\n",
        "from sklearn import metrics\n",
        "\n",
        "print('MAE:', metrics.mean_absolute_error(y_test, predictions))\n",
        "print('MSE:', metrics.mean_squared_error(y_test, predictions))\n",
        "print('RMSE:', np.sqrt(metrics.mean_squared_error(y_test, predictions)))"
      ]
    },
    {
      "cell_type": "code",
      "execution_count": 49,
      "metadata": {
        "colab": {
          "base_uri": "https://localhost:8080/",
          "height": 1000
        },
        "id": "Z2iiAHyDk2Nx",
        "outputId": "fb8ba14a-a052-4b00-cb73-03c72e6c26e7"
      },
      "outputs": [
        {
          "name": "stderr",
          "output_type": "stream",
          "text": [
            "c:\\Users\\akash.cq.kumar\\AppData\\Local\\Continuum\\anaconda3\\lib\\site-packages\\numpy\\core\\fromnumeric.py:2389: FutureWarning: Method .ptp is deprecated and will be removed in a future version. Use numpy.ptp instead.\n",
            "  return ptp(axis=axis, out=out, **kwargs)\n"
          ]
        },
        {
          "data": {
            "text/html": [
              "<table class=\"simpletable\">\n",
              "<caption>OLS Regression Results</caption>\n",
              "<tr>\n",
              "  <th>Dep. Variable:</th>     <td>FitmentPercent</td>  <th>  R-squared:         </th> <td>   0.628</td> \n",
              "</tr>\n",
              "<tr>\n",
              "  <th>Model:</th>                   <td>OLS</td>       <th>  Adj. R-squared:    </th> <td>   0.627</td> \n",
              "</tr>\n",
              "<tr>\n",
              "  <th>Method:</th>             <td>Least Squares</td>  <th>  F-statistic:       </th> <td>   642.8</td> \n",
              "</tr>\n",
              "<tr>\n",
              "  <th>Date:</th>             <td>Fri, 21 Oct 2022</td> <th>  Prob (F-statistic):</th>  <td>  0.00</td>  \n",
              "</tr>\n",
              "<tr>\n",
              "  <th>Time:</th>                 <td>22:19:31</td>     <th>  Log-Likelihood:    </th> <td> -34663.</td> \n",
              "</tr>\n",
              "<tr>\n",
              "  <th>No. Observations:</th>      <td>  9551</td>      <th>  AIC:               </th> <td>6.938e+04</td>\n",
              "</tr>\n",
              "<tr>\n",
              "  <th>Df Residuals:</th>          <td>  9525</td>      <th>  BIC:               </th> <td>6.956e+04</td>\n",
              "</tr>\n",
              "<tr>\n",
              "  <th>Df Model:</th>              <td>    25</td>      <th>                     </th>     <td> </td>    \n",
              "</tr>\n",
              "<tr>\n",
              "  <th>Covariance Type:</th>      <td>nonrobust</td>    <th>                     </th>     <td> </td>    \n",
              "</tr>\n",
              "</table>\n",
              "<table class=\"simpletable\">\n",
              "<tr>\n",
              "                      <td></td>                        <th>coef</th>     <th>std err</th>      <th>t</th>      <th>P>|t|</th>  <th>[0.025</th>    <th>0.975]</th>  \n",
              "</tr>\n",
              "<tr>\n",
              "  <th>const</th>                                    <td>   64.7014</td> <td>    2.459</td> <td>   26.314</td> <td> 0.000</td> <td>   59.882</td> <td>   69.521</td>\n",
              "</tr>\n",
              "<tr>\n",
              "  <th>LanguageOfCommunication</th>                  <td>    0.1114</td> <td>    0.139</td> <td>    0.800</td> <td> 0.424</td> <td>   -0.162</td> <td>    0.384</td>\n",
              "</tr>\n",
              "<tr>\n",
              "  <th>Age</th>                                      <td>    0.1615</td> <td>    0.113</td> <td>    1.430</td> <td> 0.153</td> <td>   -0.060</td> <td>    0.383</td>\n",
              "</tr>\n",
              "<tr>\n",
              "  <th>Gender</th>                                   <td>   -5.2588</td> <td>    0.228</td> <td>  -23.031</td> <td> 0.000</td> <td>   -5.706</td> <td>   -4.811</td>\n",
              "</tr>\n",
              "<tr>\n",
              "  <th>HighestDegree</th>                            <td>   -0.2661</td> <td>    0.093</td> <td>   -2.861</td> <td> 0.004</td> <td>   -0.448</td> <td>   -0.084</td>\n",
              "</tr>\n",
              "<tr>\n",
              "  <th>DegreeBranch</th>                             <td>   -0.0930</td> <td>    0.051</td> <td>   -1.809</td> <td> 0.070</td> <td>   -0.194</td> <td>    0.008</td>\n",
              "</tr>\n",
              "<tr>\n",
              "  <th>GraduatingInstitute</th>                      <td>   -0.2187</td> <td>    0.129</td> <td>   -1.695</td> <td> 0.090</td> <td>   -0.472</td> <td>    0.034</td>\n",
              "</tr>\n",
              "<tr>\n",
              "  <th>LatestDegreeCGPA</th>                         <td>   -0.0733</td> <td>    0.071</td> <td>   -1.025</td> <td> 0.305</td> <td>   -0.213</td> <td>    0.067</td>\n",
              "</tr>\n",
              "<tr>\n",
              "  <th>YearsOfExperince</th>                         <td>   -0.2941</td> <td>    0.116</td> <td>   -2.525</td> <td> 0.012</td> <td>   -0.522</td> <td>   -0.066</td>\n",
              "</tr>\n",
              "<tr>\n",
              "  <th>CurrentCTC</th>                               <td>    0.1513</td> <td>    0.048</td> <td>    3.134</td> <td> 0.002</td> <td>    0.057</td> <td>    0.246</td>\n",
              "</tr>\n",
              "<tr>\n",
              "  <th>ExpectedCTC</th>                              <td>    0.0447</td> <td>    0.047</td> <td>    0.959</td> <td> 0.337</td> <td>   -0.047</td> <td>    0.136</td>\n",
              "</tr>\n",
              "<tr>\n",
              "  <th>MartialStatus</th>                            <td>    0.4117</td> <td>    0.209</td> <td>    1.973</td> <td> 0.049</td> <td>    0.003</td> <td>    0.821</td>\n",
              "</tr>\n",
              "<tr>\n",
              "  <th>EmpScore</th>                                 <td>    0.5216</td> <td>    0.096</td> <td>    5.435</td> <td> 0.000</td> <td>    0.333</td> <td>    0.710</td>\n",
              "</tr>\n",
              "<tr>\n",
              "  <th>CurrentDesignation</th>                       <td>    0.0005</td> <td>    0.044</td> <td>    0.012</td> <td> 0.990</td> <td>   -0.086</td> <td>    0.087</td>\n",
              "</tr>\n",
              "<tr>\n",
              "  <th>CurrentCompanyType</th>                       <td>    3.6409</td> <td>    0.121</td> <td>   29.997</td> <td> 0.000</td> <td>    3.403</td> <td>    3.879</td>\n",
              "</tr>\n",
              "<tr>\n",
              "  <th>DepartmentInCompany</th>                      <td>    0.0972</td> <td>    0.089</td> <td>    1.089</td> <td> 0.276</td> <td>   -0.078</td> <td>    0.272</td>\n",
              "</tr>\n",
              "<tr>\n",
              "  <th>TotalLeavesTaken</th>                         <td>   -0.0323</td> <td>    0.019</td> <td>   -1.681</td> <td> 0.093</td> <td>   -0.070</td> <td>    0.005</td>\n",
              "</tr>\n",
              "<tr>\n",
              "  <th>BiasInfluentialFactor_CurrentCompanyType</th> <td>    3.5197</td> <td>    0.423</td> <td>    8.324</td> <td> 0.000</td> <td>    2.691</td> <td>    4.349</td>\n",
              "</tr>\n",
              "<tr>\n",
              "  <th>BiasInfluentialFactor_DegreeBranch</th>       <td>   11.8630</td> <td>    0.345</td> <td>   34.379</td> <td> 0.000</td> <td>   11.187</td> <td>   12.539</td>\n",
              "</tr>\n",
              "<tr>\n",
              "  <th>BiasInfluentialFactor_EmpScore</th>           <td>   12.6876</td> <td>    0.500</td> <td>   25.368</td> <td> 0.000</td> <td>   11.707</td> <td>   13.668</td>\n",
              "</tr>\n",
              "<tr>\n",
              "  <th>BiasInfluentialFactor_Ethinicity</th>         <td>   12.9676</td> <td>    0.613</td> <td>   21.166</td> <td> 0.000</td> <td>   11.767</td> <td>   14.169</td>\n",
              "</tr>\n",
              "<tr>\n",
              "  <th>BiasInfluentialFactor_Gender</th>             <td>    5.5826</td> <td>    0.386</td> <td>   14.463</td> <td> 0.000</td> <td>    4.826</td> <td>    6.339</td>\n",
              "</tr>\n",
              "<tr>\n",
              "  <th>BiasInfluentialFactor_HighestDegree</th>      <td>   12.6497</td> <td>    0.495</td> <td>   25.552</td> <td> 0.000</td> <td>   11.679</td> <td>   13.620</td>\n",
              "</tr>\n",
              "<tr>\n",
              "  <th>BiasInfluentialFactor_LatestDegreeCGPA</th>   <td>   -6.5596</td> <td>    0.685</td> <td>   -9.580</td> <td> 0.000</td> <td>   -7.902</td> <td>   -5.217</td>\n",
              "</tr>\n",
              "<tr>\n",
              "  <th>BiasInfluentialFactor_MartialStatus</th>      <td>   12.8419</td> <td>    0.666</td> <td>   19.288</td> <td> 0.000</td> <td>   11.537</td> <td>   14.147</td>\n",
              "</tr>\n",
              "<tr>\n",
              "  <th>BiasInfluentialFactor_No_Bias</th>            <td>  -11.5966</td> <td>    0.334</td> <td>  -34.754</td> <td> 0.000</td> <td>  -12.251</td> <td>  -10.943</td>\n",
              "</tr>\n",
              "<tr>\n",
              "  <th>BiasInfluentialFactor_YearsOfExperince</th>   <td>   10.7456</td> <td>    0.412</td> <td>   26.109</td> <td> 0.000</td> <td>    9.939</td> <td>   11.552</td>\n",
              "</tr>\n",
              "</table>\n",
              "<table class=\"simpletable\">\n",
              "<tr>\n",
              "  <th>Omnibus:</th>       <td>68.312</td> <th>  Durbin-Watson:     </th> <td>   1.988</td>\n",
              "</tr>\n",
              "<tr>\n",
              "  <th>Prob(Omnibus):</th> <td> 0.000</td> <th>  Jarque-Bera (JB):  </th> <td>  69.944</td>\n",
              "</tr>\n",
              "<tr>\n",
              "  <th>Skew:</th>          <td> 0.200</td> <th>  Prob(JB):          </th> <td>6.48e-16</td>\n",
              "</tr>\n",
              "<tr>\n",
              "  <th>Kurtosis:</th>      <td> 3.124</td> <th>  Cond. No.          </th> <td>2.59e+15</td>\n",
              "</tr>\n",
              "</table><br/><br/>Warnings:<br/>[1] Standard Errors assume that the covariance matrix of the errors is correctly specified.<br/>[2] The smallest eigenvalue is 3.18e-24. This might indicate that there are<br/>strong multicollinearity problems or that the design matrix is singular."
            ],
            "text/plain": [
              "<class 'statsmodels.iolib.summary.Summary'>\n",
              "\"\"\"\n",
              "                            OLS Regression Results                            \n",
              "==============================================================================\n",
              "Dep. Variable:         FitmentPercent   R-squared:                       0.628\n",
              "Model:                            OLS   Adj. R-squared:                  0.627\n",
              "Method:                 Least Squares   F-statistic:                     642.8\n",
              "Date:                Fri, 21 Oct 2022   Prob (F-statistic):               0.00\n",
              "Time:                        22:19:31   Log-Likelihood:                -34663.\n",
              "No. Observations:                9551   AIC:                         6.938e+04\n",
              "Df Residuals:                    9525   BIC:                         6.956e+04\n",
              "Df Model:                          25                                         \n",
              "Covariance Type:            nonrobust                                         \n",
              "============================================================================================================\n",
              "                                               coef    std err          t      P>|t|      [0.025      0.975]\n",
              "------------------------------------------------------------------------------------------------------------\n",
              "const                                       64.7014      2.459     26.314      0.000      59.882      69.521\n",
              "LanguageOfCommunication                      0.1114      0.139      0.800      0.424      -0.162       0.384\n",
              "Age                                          0.1615      0.113      1.430      0.153      -0.060       0.383\n",
              "Gender                                      -5.2588      0.228    -23.031      0.000      -5.706      -4.811\n",
              "HighestDegree                               -0.2661      0.093     -2.861      0.004      -0.448      -0.084\n",
              "DegreeBranch                                -0.0930      0.051     -1.809      0.070      -0.194       0.008\n",
              "GraduatingInstitute                         -0.2187      0.129     -1.695      0.090      -0.472       0.034\n",
              "LatestDegreeCGPA                            -0.0733      0.071     -1.025      0.305      -0.213       0.067\n",
              "YearsOfExperince                            -0.2941      0.116     -2.525      0.012      -0.522      -0.066\n",
              "CurrentCTC                                   0.1513      0.048      3.134      0.002       0.057       0.246\n",
              "ExpectedCTC                                  0.0447      0.047      0.959      0.337      -0.047       0.136\n",
              "MartialStatus                                0.4117      0.209      1.973      0.049       0.003       0.821\n",
              "EmpScore                                     0.5216      0.096      5.435      0.000       0.333       0.710\n",
              "CurrentDesignation                           0.0005      0.044      0.012      0.990      -0.086       0.087\n",
              "CurrentCompanyType                           3.6409      0.121     29.997      0.000       3.403       3.879\n",
              "DepartmentInCompany                          0.0972      0.089      1.089      0.276      -0.078       0.272\n",
              "TotalLeavesTaken                            -0.0323      0.019     -1.681      0.093      -0.070       0.005\n",
              "BiasInfluentialFactor_CurrentCompanyType     3.5197      0.423      8.324      0.000       2.691       4.349\n",
              "BiasInfluentialFactor_DegreeBranch          11.8630      0.345     34.379      0.000      11.187      12.539\n",
              "BiasInfluentialFactor_EmpScore              12.6876      0.500     25.368      0.000      11.707      13.668\n",
              "BiasInfluentialFactor_Ethinicity            12.9676      0.613     21.166      0.000      11.767      14.169\n",
              "BiasInfluentialFactor_Gender                 5.5826      0.386     14.463      0.000       4.826       6.339\n",
              "BiasInfluentialFactor_HighestDegree         12.6497      0.495     25.552      0.000      11.679      13.620\n",
              "BiasInfluentialFactor_LatestDegreeCGPA      -6.5596      0.685     -9.580      0.000      -7.902      -5.217\n",
              "BiasInfluentialFactor_MartialStatus         12.8419      0.666     19.288      0.000      11.537      14.147\n",
              "BiasInfluentialFactor_No_Bias              -11.5966      0.334    -34.754      0.000     -12.251     -10.943\n",
              "BiasInfluentialFactor_YearsOfExperince      10.7456      0.412     26.109      0.000       9.939      11.552\n",
              "==============================================================================\n",
              "Omnibus:                       68.312   Durbin-Watson:                   1.988\n",
              "Prob(Omnibus):                  0.000   Jarque-Bera (JB):               69.944\n",
              "Skew:                           0.200   Prob(JB):                     6.48e-16\n",
              "Kurtosis:                       3.124   Cond. No.                     2.59e+15\n",
              "==============================================================================\n",
              "\n",
              "Warnings:\n",
              "[1] Standard Errors assume that the covariance matrix of the errors is correctly specified.\n",
              "[2] The smallest eigenvalue is 3.18e-24. This might indicate that there are\n",
              "strong multicollinearity problems or that the design matrix is singular.\n",
              "\"\"\""
            ]
          },
          "execution_count": 49,
          "metadata": {},
          "output_type": "execute_result"
        }
      ],
      "source": [
        "import statsmodels.api as sm\n",
        "X_train_model = sm.add_constant(x_train)\n",
        "lm_model2 = sm.OLS(y_train, X_train_model).fit()\n",
        "lm_model2.summary()"
      ]
    },
    {
      "cell_type": "code",
      "execution_count": 50,
      "metadata": {
        "id": "oAUmnZE3GPUt"
      },
      "outputs": [],
      "source": [
        "from sklearn.metrics import accuracy_score"
      ]
    },
    {
      "cell_type": "code",
      "execution_count": 51,
      "metadata": {
        "id": "Z-2V4Of1Gfab"
      },
      "outputs": [],
      "source": [
        "import numpy as np \n",
        "import pandas as pd\n",
        "from sklearn.tree import DecisionTreeClassifier"
      ]
    },
    {
      "cell_type": "code",
      "execution_count": 52,
      "metadata": {
        "id": "73QAHPpoGyxw"
      },
      "outputs": [],
      "source": [
        "from sklearn.tree import DecisionTreeRegressor"
      ]
    },
    {
      "cell_type": "code",
      "execution_count": 53,
      "metadata": {
        "id": "gpEX_AXSiePO"
      },
      "outputs": [],
      "source": [
        "dt_model=DecisionTreeRegressor(random_state=100)"
      ]
    },
    {
      "cell_type": "code",
      "execution_count": 54,
      "metadata": {
        "colab": {
          "base_uri": "https://localhost:8080/"
        },
        "id": "lDtESuyimXoK",
        "outputId": "4dd81679-575d-4a7a-cf35-cde2f2790451"
      },
      "outputs": [
        {
          "data": {
            "text/plain": [
              "DecisionTreeRegressor(criterion='mse', max_depth=None, max_features=None,\n",
              "                      max_leaf_nodes=None, min_impurity_decrease=0.0,\n",
              "                      min_impurity_split=None, min_samples_leaf=1,\n",
              "                      min_samples_split=2, min_weight_fraction_leaf=0.0,\n",
              "                      presort=False, random_state=100, splitter='best')"
            ]
          },
          "execution_count": 54,
          "metadata": {},
          "output_type": "execute_result"
        }
      ],
      "source": [
        "dt_model.fit(x_train,y_train)"
      ]
    },
    {
      "cell_type": "code",
      "execution_count": 55,
      "metadata": {
        "colab": {
          "base_uri": "https://localhost:8080/"
        },
        "id": "lmekaaBrmhk1",
        "outputId": "a6328f7b-5441-4552-826e-ab28f1243559"
      },
      "outputs": [
        {
          "data": {
            "text/plain": [
              "1.0"
            ]
          },
          "execution_count": 55,
          "metadata": {},
          "output_type": "execute_result"
        }
      ],
      "source": [
        "dt_model.score(x_train,y_train)"
      ]
    },
    {
      "cell_type": "code",
      "execution_count": 56,
      "metadata": {
        "colab": {
          "base_uri": "https://localhost:8080/"
        },
        "id": "2VWCfKD7xGNq",
        "outputId": "410c67b9-ed7d-45fc-af0d-d5dabdd068d5"
      },
      "outputs": [
        {
          "data": {
            "text/plain": [
              "0.5960993295622219"
            ]
          },
          "execution_count": 56,
          "metadata": {},
          "output_type": "execute_result"
        }
      ],
      "source": [
        "dt_model.score(x_test,y_test)"
      ]
    },
    {
      "cell_type": "code",
      "execution_count": 57,
      "metadata": {
        "colab": {
          "base_uri": "https://localhost:8080/"
        },
        "id": "5lvKfAnMmnv7",
        "outputId": "689ffb20-3c3a-4e4c-81b8-083c0a5113ba"
      },
      "outputs": [
        {
          "data": {
            "text/plain": [
              "array([72.42, 39.96, 76.84, 72.07, 84.87, 79.04, 89.02, 92.86, 85.69,\n",
              "       66.61])"
            ]
          },
          "execution_count": 57,
          "metadata": {},
          "output_type": "execute_result"
        }
      ],
      "source": [
        "dt_model.predict(x_test)[:10]"
      ]
    },
    {
      "cell_type": "code",
      "execution_count": 58,
      "metadata": {
        "colab": {
          "base_uri": "https://localhost:8080/"
        },
        "id": "j6-l1fYMm9XQ",
        "outputId": "65ef787e-c653-4d2d-d746-f81fd806e25a"
      },
      "outputs": [
        {
          "data": {
            "text/plain": [
              "13480    80.89\n",
              "12433    59.84\n",
              "5137     70.64\n",
              "12538    76.82\n",
              "12286    76.78\n",
              "Name: FitmentPercent, dtype: float64"
            ]
          },
          "execution_count": 58,
          "metadata": {},
          "output_type": "execute_result"
        }
      ],
      "source": [
        "y_test.head()"
      ]
    },
    {
      "cell_type": "code",
      "execution_count": 59,
      "metadata": {
        "colab": {
          "base_uri": "https://localhost:8080/"
        },
        "id": "kjM8HEelnDZY",
        "outputId": "62c10190-5859-4d8f-922d-a692c8a6da26"
      },
      "outputs": [
        {
          "data": {
            "text/plain": [
              "RandomForestRegressor(bootstrap=True, criterion='mse', max_depth=None,\n",
              "                      max_features='auto', max_leaf_nodes=None,\n",
              "                      min_impurity_decrease=0.0, min_impurity_split=None,\n",
              "                      min_samples_leaf=1, min_samples_split=2,\n",
              "                      min_weight_fraction_leaf=0.0, n_estimators=100,\n",
              "                      n_jobs=None, oob_score=False, random_state=0, verbose=0,\n",
              "                      warm_start=False)"
            ]
          },
          "execution_count": 59,
          "metadata": {},
          "output_type": "execute_result"
        }
      ],
      "source": [
        "# Fitting Random Forest Regression to the dataset\n",
        "# import the regressor\n",
        "from sklearn.ensemble import RandomForestRegressor\n",
        "  \n",
        " # create regressor object\n",
        "regressor = RandomForestRegressor(n_estimators = 100, random_state = 0)\n",
        "  \n",
        "# fit the regressor with x and y data\n",
        "regressor.fit(x_train, y_train)  "
      ]
    },
    {
      "cell_type": "code",
      "execution_count": 60,
      "metadata": {
        "colab": {
          "base_uri": "https://localhost:8080/"
        },
        "id": "l2OoGgMk8EKF",
        "outputId": "5f7ac47e-8bc5-4450-c5a6-53a7c3df093a"
      },
      "outputs": [
        {
          "data": {
            "text/plain": [
              "0.9712176792927383"
            ]
          },
          "execution_count": 60,
          "metadata": {},
          "output_type": "execute_result"
        }
      ],
      "source": [
        "regressor.score(x_train,y_train)"
      ]
    },
    {
      "cell_type": "code",
      "execution_count": 61,
      "metadata": {
        "colab": {
          "base_uri": "https://localhost:8080/"
        },
        "id": "cK9skJLH8KtW",
        "outputId": "c6ef9574-b765-4eb6-d7d1-7417be1f1977"
      },
      "outputs": [
        {
          "data": {
            "text/plain": [
              "0.7837086607116608"
            ]
          },
          "execution_count": 61,
          "metadata": {},
          "output_type": "execute_result"
        }
      ],
      "source": [
        "regressor.score(x_test,y_test)"
      ]
    },
    {
      "cell_type": "code",
      "execution_count": 62,
      "metadata": {
        "id": "HjisWjQD8THn"
      },
      "outputs": [],
      "source": [
        "y_pred=regressor.predict(x_test)"
      ]
    },
    {
      "cell_type": "code",
      "execution_count": 63,
      "metadata": {
        "colab": {
          "base_uri": "https://localhost:8080/"
        },
        "id": "qDiQSs7H_Pta",
        "outputId": "48a7c700-1372-48a2-cec1-74e6e760caba"
      },
      "outputs": [
        {
          "name": "stdout",
          "output_type": "stream",
          "text": [
            "Estimators value - 1 Accuracy Score - 0.5725196106166153\n",
            "Estimators value - 2 Accuracy Score - 0.6789584601460587\n",
            "Estimators value - 3 Accuracy Score - 0.720033928731411\n"
          ]
        }
      ],
      "source": [
        "for i in range(1,4):\n",
        "  regressor = RandomForestRegressor(n_estimators = i, random_state = 0)\n",
        "  regressor.fit(x_train, y_train) \n",
        "  print(\"Estimators value - {} Accuracy Score - {}\".format(i,regressor.score(x_test,y_test)))"
      ]
    },
    {
      "cell_type": "code",
      "execution_count": 64,
      "metadata": {
        "colab": {
          "base_uri": "https://localhost:8080/"
        },
        "id": "52GtLGc9_Zgc",
        "outputId": "81d23173-f5a3-4961-d881-902514ecbe30"
      },
      "outputs": [
        {
          "data": {
            "text/plain": [
              "0.7856238472013024"
            ]
          },
          "execution_count": 64,
          "metadata": {},
          "output_type": "execute_result"
        }
      ],
      "source": [
        "regressor_1000 = RandomForestRegressor(n_estimators = 281, random_state = 100)\n",
        "regressor_1000.fit(x_train, y_train) \n",
        "regressor_1000.score(x_test,y_test)"
      ]
    },
    {
      "cell_type": "code",
      "execution_count": 65,
      "metadata": {},
      "outputs": [],
      "source": [
        "import pickle\n",
        "import joblib\n"
      ]
    },
    {
      "cell_type": "code",
      "execution_count": 66,
      "metadata": {},
      "outputs": [],
      "source": [
        "filename='fitment_pred.pkl'\n",
        "joblib.dump(regressor_1000,open(filename,'wb'))"
      ]
    },
    {
      "cell_type": "code",
      "execution_count": 67,
      "metadata": {},
      "outputs": [],
      "source": [
        "#load model\n",
        "loaded_model=joblib.load(open(filename,'rb'))\n"
      ]
    },
    {
      "cell_type": "code",
      "execution_count": 68,
      "metadata": {},
      "outputs": [
        {
          "data": {
            "text/plain": [
              "0.7856238472013024"
            ]
          },
          "execution_count": 68,
          "metadata": {},
          "output_type": "execute_result"
        }
      ],
      "source": [
        "loaded_model.score(x_test,y_test)"
      ]
    },
    {
      "cell_type": "code",
      "execution_count": 69,
      "metadata": {},
      "outputs": [
        {
          "data": {
            "text/plain": [
              "array([0, 2, 1], dtype=int64)"
            ]
          },
          "execution_count": 69,
          "metadata": {},
          "output_type": "execute_result"
        }
      ],
      "source": [
        "from sklearn import preprocessing\n",
        "  \n",
        "# label_encoder object knows how to understand word labels.\n",
        "label_encoder = preprocessing.LabelEncoder()\n",
        "  \n",
        "# Encode labels in column 'species'.\n",
        "data['LanguageOfCommunication']= label_encoder.fit_transform(data['LanguageOfCommunication'])\n",
        "  \n",
        "data['LanguageOfCommunication'].unique()"
      ]
    },
    {
      "cell_type": "code",
      "execution_count": 70,
      "metadata": {},
      "outputs": [],
      "source": [
        "filename='output.pkl'\n",
        "joblib.dump(label_encoder,open(filename,'wb'))"
      ]
    },
    {
      "cell_type": "code",
      "execution_count": 71,
      "metadata": {},
      "outputs": [],
      "source": [
        "#load model\n",
        "loaded_model=joblib.load(open(filename,'rb'))"
      ]
    }
  ],
  "metadata": {
    "colab": {
      "collapsed_sections": [],
      "provenance": []
    },
    "kernelspec": {
      "display_name": "Python 3.7.9 64-bit (microsoft store)",
      "language": "python",
      "name": "python3"
    },
    "language_info": {
      "codemirror_mode": {
        "name": "ipython",
        "version": 3
      },
      "file_extension": ".py",
      "mimetype": "text/x-python",
      "name": "python",
      "nbconvert_exporter": "python",
      "pygments_lexer": "ipython3",
      "version": "3.7.9"
    },
    "vscode": {
      "interpreter": {
        "hash": "45add03699aca0fa7b7f9692785818e6ebd3d3d07fef9810d2974be94f693def"
      }
    }
  },
  "nbformat": 4,
  "nbformat_minor": 0
}
